{
 "cells": [
  {
   "cell_type": "markdown",
   "metadata": {},
   "source": [
    "## Problem Statement\n",
    "    \n",
    "- Provided data set is belong to 1994 Census data. \n",
    "- After validating the Data found that the prediction task is to determine whether a person makes over $50K a year or not."
   ]
  },
  {
   "cell_type": "code",
   "execution_count": 2,
   "metadata": {
    "ExecuteTime": {
     "end_time": "2020-08-22T13:48:21.432337Z",
     "start_time": "2020-08-22T13:48:16.492276Z"
    }
   },
   "outputs": [],
   "source": [
    "#Importing required Packages\n",
    "import pandas as pd #Used for input/output & Data exploration\n",
    "from datetime import datetime #Used for handling date columns \n",
    "import missingno #Used for Checking missing values\n",
    "import matplotlib.pyplot as plt #Used for visulization\n",
    "import seaborn as sns #Used for Visulization\n",
    "import math\n",
    "import numpy as np\n",
    "import string as str\n",
    "%matplotlib inline"
   ]
  },
  {
   "cell_type": "markdown",
   "metadata": {},
   "source": [
    "## Exploratory data analysis "
   ]
  },
  {
   "cell_type": "markdown",
   "metadata": {},
   "source": [
    "### Reading data\n",
    "- Refer the Adult.names file to give the column name as header is missing in adult.data file\n",
    "- Data files does not have header and having space in value. Hence to handle that used the  header=None, skipinitialspace=True"
   ]
  },
  {
   "cell_type": "code",
   "execution_count": 3,
   "metadata": {
    "ExecuteTime": {
     "end_time": "2020-08-22T13:48:21.710359Z",
     "start_time": "2020-08-22T13:48:21.436342Z"
    }
   },
   "outputs": [
    {
     "data": {
      "text/html": [
       "<div>\n",
       "<style scoped>\n",
       "    .dataframe tbody tr th:only-of-type {\n",
       "        vertical-align: middle;\n",
       "    }\n",
       "\n",
       "    .dataframe tbody tr th {\n",
       "        vertical-align: top;\n",
       "    }\n",
       "\n",
       "    .dataframe thead th {\n",
       "        text-align: right;\n",
       "    }\n",
       "</style>\n",
       "<table border=\"1\" class=\"dataframe\">\n",
       "  <thead>\n",
       "    <tr style=\"text-align: right;\">\n",
       "      <th></th>\n",
       "      <th>age</th>\n",
       "      <th>workclass</th>\n",
       "      <th>fnlwgt</th>\n",
       "      <th>education</th>\n",
       "      <th>education-num</th>\n",
       "      <th>marital-status</th>\n",
       "      <th>occupation</th>\n",
       "      <th>relationship</th>\n",
       "      <th>race</th>\n",
       "      <th>sex</th>\n",
       "      <th>capital-gain</th>\n",
       "      <th>capital-loss</th>\n",
       "      <th>hours-per-week</th>\n",
       "      <th>native-country</th>\n",
       "      <th>income</th>\n",
       "    </tr>\n",
       "  </thead>\n",
       "  <tbody>\n",
       "    <tr>\n",
       "      <th>0</th>\n",
       "      <td>39</td>\n",
       "      <td>State-gov</td>\n",
       "      <td>77516</td>\n",
       "      <td>Bachelors</td>\n",
       "      <td>13</td>\n",
       "      <td>Never-married</td>\n",
       "      <td>Adm-clerical</td>\n",
       "      <td>Not-in-family</td>\n",
       "      <td>White</td>\n",
       "      <td>Male</td>\n",
       "      <td>2174</td>\n",
       "      <td>0</td>\n",
       "      <td>40</td>\n",
       "      <td>United-States</td>\n",
       "      <td>&lt;=50K</td>\n",
       "    </tr>\n",
       "    <tr>\n",
       "      <th>1</th>\n",
       "      <td>50</td>\n",
       "      <td>Self-emp-not-inc</td>\n",
       "      <td>83311</td>\n",
       "      <td>Bachelors</td>\n",
       "      <td>13</td>\n",
       "      <td>Married-civ-spouse</td>\n",
       "      <td>Exec-managerial</td>\n",
       "      <td>Husband</td>\n",
       "      <td>White</td>\n",
       "      <td>Male</td>\n",
       "      <td>0</td>\n",
       "      <td>0</td>\n",
       "      <td>13</td>\n",
       "      <td>United-States</td>\n",
       "      <td>&lt;=50K</td>\n",
       "    </tr>\n",
       "    <tr>\n",
       "      <th>2</th>\n",
       "      <td>38</td>\n",
       "      <td>Private</td>\n",
       "      <td>215646</td>\n",
       "      <td>HS-grad</td>\n",
       "      <td>9</td>\n",
       "      <td>Divorced</td>\n",
       "      <td>Handlers-cleaners</td>\n",
       "      <td>Not-in-family</td>\n",
       "      <td>White</td>\n",
       "      <td>Male</td>\n",
       "      <td>0</td>\n",
       "      <td>0</td>\n",
       "      <td>40</td>\n",
       "      <td>United-States</td>\n",
       "      <td>&lt;=50K</td>\n",
       "    </tr>\n",
       "    <tr>\n",
       "      <th>3</th>\n",
       "      <td>53</td>\n",
       "      <td>Private</td>\n",
       "      <td>234721</td>\n",
       "      <td>11th</td>\n",
       "      <td>7</td>\n",
       "      <td>Married-civ-spouse</td>\n",
       "      <td>Handlers-cleaners</td>\n",
       "      <td>Husband</td>\n",
       "      <td>Black</td>\n",
       "      <td>Male</td>\n",
       "      <td>0</td>\n",
       "      <td>0</td>\n",
       "      <td>40</td>\n",
       "      <td>United-States</td>\n",
       "      <td>&lt;=50K</td>\n",
       "    </tr>\n",
       "    <tr>\n",
       "      <th>4</th>\n",
       "      <td>28</td>\n",
       "      <td>Private</td>\n",
       "      <td>338409</td>\n",
       "      <td>Bachelors</td>\n",
       "      <td>13</td>\n",
       "      <td>Married-civ-spouse</td>\n",
       "      <td>Prof-specialty</td>\n",
       "      <td>Wife</td>\n",
       "      <td>Black</td>\n",
       "      <td>Female</td>\n",
       "      <td>0</td>\n",
       "      <td>0</td>\n",
       "      <td>40</td>\n",
       "      <td>Cuba</td>\n",
       "      <td>&lt;=50K</td>\n",
       "    </tr>\n",
       "  </tbody>\n",
       "</table>\n",
       "</div>"
      ],
      "text/plain": [
       "   age         workclass  fnlwgt  education  education-num  \\\n",
       "0   39         State-gov   77516  Bachelors             13   \n",
       "1   50  Self-emp-not-inc   83311  Bachelors             13   \n",
       "2   38           Private  215646    HS-grad              9   \n",
       "3   53           Private  234721       11th              7   \n",
       "4   28           Private  338409  Bachelors             13   \n",
       "\n",
       "       marital-status         occupation   relationship   race     sex  \\\n",
       "0       Never-married       Adm-clerical  Not-in-family  White    Male   \n",
       "1  Married-civ-spouse    Exec-managerial        Husband  White    Male   \n",
       "2            Divorced  Handlers-cleaners  Not-in-family  White    Male   \n",
       "3  Married-civ-spouse  Handlers-cleaners        Husband  Black    Male   \n",
       "4  Married-civ-spouse     Prof-specialty           Wife  Black  Female   \n",
       "\n",
       "   capital-gain  capital-loss  hours-per-week native-country income  \n",
       "0          2174             0              40  United-States  <=50K  \n",
       "1             0             0              13  United-States  <=50K  \n",
       "2             0             0              40  United-States  <=50K  \n",
       "3             0             0              40  United-States  <=50K  \n",
       "4             0             0              40           Cuba  <=50K  "
      ]
     },
     "execution_count": 3,
     "metadata": {},
     "output_type": "execute_result"
    }
   ],
   "source": [
    "data=pd.read_csv(\"adult.data\",header=None,names=['age','workclass','fnlwgt','education','education-num','marital-status','occupation','relationship','race','sex','capital-gain','capital-loss','hours-per-week','native-country','income'],skipinitialspace=True)\n",
    "data.head()"
   ]
  },
  {
   "cell_type": "code",
   "execution_count": 4,
   "metadata": {},
   "outputs": [
    {
     "data": {
      "application/vnd.jupyter.widget-view+json": {
       "model_id": "6babc356e7594750afecc59a6b9903eb",
       "version_major": 2,
       "version_minor": 0
      },
      "text/plain": [
       "HBox(children=(FloatProgress(value=0.0, description='Summarize dataset', max=29.0, style=ProgressStyle(descrip…"
      ]
     },
     "metadata": {},
     "output_type": "display_data"
    },
    {
     "name": "stdout",
     "output_type": "stream",
     "text": [
      "\n"
     ]
    },
    {
     "data": {
      "application/vnd.jupyter.widget-view+json": {
       "model_id": "409a9eb630594f7a97d75889e0ff2982",
       "version_major": 2,
       "version_minor": 0
      },
      "text/plain": [
       "HBox(children=(FloatProgress(value=0.0, description='Generate report structure', max=1.0, style=ProgressStyle(…"
      ]
     },
     "metadata": {},
     "output_type": "display_data"
    },
    {
     "name": "stdout",
     "output_type": "stream",
     "text": [
      "\n"
     ]
    },
    {
     "data": {
      "application/vnd.jupyter.widget-view+json": {
       "model_id": "4c3a3097c1244b4cad39e30e8482a24e",
       "version_major": 2,
       "version_minor": 0
      },
      "text/plain": [
       "HBox(children=(FloatProgress(value=0.0, description='Render HTML', max=1.0, style=ProgressStyle(description_wi…"
      ]
     },
     "metadata": {},
     "output_type": "display_data"
    },
    {
     "name": "stdout",
     "output_type": "stream",
     "text": [
      "\n"
     ]
    },
    {
     "data": {
      "application/vnd.jupyter.widget-view+json": {
       "model_id": "107818fbfd4746c393913f69f2fe7275",
       "version_major": 2,
       "version_minor": 0
      },
      "text/plain": [
       "HBox(children=(FloatProgress(value=0.0, description='Export report to file', max=1.0, style=ProgressStyle(desc…"
      ]
     },
     "metadata": {},
     "output_type": "display_data"
    },
    {
     "name": "stdout",
     "output_type": "stream",
     "text": [
      "\n"
     ]
    }
   ],
   "source": [
    "from pandas_profiling import ProfileReport\n",
    "prof = ProfileReport(data)\n",
    "prof.to_file(output_file='output.html')"
   ]
  },
  {
   "cell_type": "markdown",
   "metadata": {},
   "source": [
    "- Found first record is not as per the required format in validation set as it seems to just a message/comment. Hence skipping the same."
   ]
  },
  {
   "cell_type": "code",
   "execution_count": 5,
   "metadata": {
    "ExecuteTime": {
     "end_time": "2020-08-22T13:48:21.843336Z",
     "start_time": "2020-08-22T13:48:21.716339Z"
    }
   },
   "outputs": [
    {
     "data": {
      "text/html": [
       "<div>\n",
       "<style scoped>\n",
       "    .dataframe tbody tr th:only-of-type {\n",
       "        vertical-align: middle;\n",
       "    }\n",
       "\n",
       "    .dataframe tbody tr th {\n",
       "        vertical-align: top;\n",
       "    }\n",
       "\n",
       "    .dataframe thead th {\n",
       "        text-align: right;\n",
       "    }\n",
       "</style>\n",
       "<table border=\"1\" class=\"dataframe\">\n",
       "  <thead>\n",
       "    <tr style=\"text-align: right;\">\n",
       "      <th></th>\n",
       "      <th>age</th>\n",
       "      <th>workclass</th>\n",
       "      <th>fnlwgt</th>\n",
       "      <th>education</th>\n",
       "      <th>education-num</th>\n",
       "      <th>marital-status</th>\n",
       "      <th>occupation</th>\n",
       "      <th>relationship</th>\n",
       "      <th>race</th>\n",
       "      <th>sex</th>\n",
       "      <th>capital-gain</th>\n",
       "      <th>capital-loss</th>\n",
       "      <th>hours-per-week</th>\n",
       "      <th>native-country</th>\n",
       "      <th>income</th>\n",
       "    </tr>\n",
       "  </thead>\n",
       "  <tbody>\n",
       "    <tr>\n",
       "      <th>0</th>\n",
       "      <td>25</td>\n",
       "      <td>Private</td>\n",
       "      <td>226802</td>\n",
       "      <td>11th</td>\n",
       "      <td>7</td>\n",
       "      <td>Never-married</td>\n",
       "      <td>Machine-op-inspct</td>\n",
       "      <td>Own-child</td>\n",
       "      <td>Black</td>\n",
       "      <td>Male</td>\n",
       "      <td>0</td>\n",
       "      <td>0</td>\n",
       "      <td>40</td>\n",
       "      <td>United-States</td>\n",
       "      <td>&lt;=50K.</td>\n",
       "    </tr>\n",
       "    <tr>\n",
       "      <th>1</th>\n",
       "      <td>38</td>\n",
       "      <td>Private</td>\n",
       "      <td>89814</td>\n",
       "      <td>HS-grad</td>\n",
       "      <td>9</td>\n",
       "      <td>Married-civ-spouse</td>\n",
       "      <td>Farming-fishing</td>\n",
       "      <td>Husband</td>\n",
       "      <td>White</td>\n",
       "      <td>Male</td>\n",
       "      <td>0</td>\n",
       "      <td>0</td>\n",
       "      <td>50</td>\n",
       "      <td>United-States</td>\n",
       "      <td>&lt;=50K.</td>\n",
       "    </tr>\n",
       "    <tr>\n",
       "      <th>2</th>\n",
       "      <td>28</td>\n",
       "      <td>Local-gov</td>\n",
       "      <td>336951</td>\n",
       "      <td>Assoc-acdm</td>\n",
       "      <td>12</td>\n",
       "      <td>Married-civ-spouse</td>\n",
       "      <td>Protective-serv</td>\n",
       "      <td>Husband</td>\n",
       "      <td>White</td>\n",
       "      <td>Male</td>\n",
       "      <td>0</td>\n",
       "      <td>0</td>\n",
       "      <td>40</td>\n",
       "      <td>United-States</td>\n",
       "      <td>&gt;50K.</td>\n",
       "    </tr>\n",
       "    <tr>\n",
       "      <th>3</th>\n",
       "      <td>44</td>\n",
       "      <td>Private</td>\n",
       "      <td>160323</td>\n",
       "      <td>Some-college</td>\n",
       "      <td>10</td>\n",
       "      <td>Married-civ-spouse</td>\n",
       "      <td>Machine-op-inspct</td>\n",
       "      <td>Husband</td>\n",
       "      <td>Black</td>\n",
       "      <td>Male</td>\n",
       "      <td>7688</td>\n",
       "      <td>0</td>\n",
       "      <td>40</td>\n",
       "      <td>United-States</td>\n",
       "      <td>&gt;50K.</td>\n",
       "    </tr>\n",
       "    <tr>\n",
       "      <th>4</th>\n",
       "      <td>18</td>\n",
       "      <td>?</td>\n",
       "      <td>103497</td>\n",
       "      <td>Some-college</td>\n",
       "      <td>10</td>\n",
       "      <td>Never-married</td>\n",
       "      <td>?</td>\n",
       "      <td>Own-child</td>\n",
       "      <td>White</td>\n",
       "      <td>Female</td>\n",
       "      <td>0</td>\n",
       "      <td>0</td>\n",
       "      <td>30</td>\n",
       "      <td>United-States</td>\n",
       "      <td>&lt;=50K.</td>\n",
       "    </tr>\n",
       "  </tbody>\n",
       "</table>\n",
       "</div>"
      ],
      "text/plain": [
       "   age  workclass  fnlwgt     education  education-num      marital-status  \\\n",
       "0   25    Private  226802          11th              7       Never-married   \n",
       "1   38    Private   89814       HS-grad              9  Married-civ-spouse   \n",
       "2   28  Local-gov  336951    Assoc-acdm             12  Married-civ-spouse   \n",
       "3   44    Private  160323  Some-college             10  Married-civ-spouse   \n",
       "4   18          ?  103497  Some-college             10       Never-married   \n",
       "\n",
       "          occupation relationship   race     sex  capital-gain  capital-loss  \\\n",
       "0  Machine-op-inspct    Own-child  Black    Male             0             0   \n",
       "1    Farming-fishing      Husband  White    Male             0             0   \n",
       "2    Protective-serv      Husband  White    Male             0             0   \n",
       "3  Machine-op-inspct      Husband  Black    Male          7688             0   \n",
       "4                  ?    Own-child  White  Female             0             0   \n",
       "\n",
       "   hours-per-week native-country  income  \n",
       "0              40  United-States  <=50K.  \n",
       "1              50  United-States  <=50K.  \n",
       "2              40  United-States   >50K.  \n",
       "3              40  United-States   >50K.  \n",
       "4              30  United-States  <=50K.  "
      ]
     },
     "execution_count": 5,
     "metadata": {},
     "output_type": "execute_result"
    }
   ],
   "source": [
    "data_val=pd.read_csv(\"adult.test\",header=None,names=['age','workclass','fnlwgt','education','education-num','marital-status','occupation','relationship','race','sex','capital-gain','capital-loss','hours-per-week','native-country','income'],skiprows=1,skipinitialspace=True)\n",
    "data_val.head()"
   ]
  },
  {
   "cell_type": "code",
   "execution_count": 6,
   "metadata": {
    "ExecuteTime": {
     "end_time": "2020-08-22T13:48:21.861345Z",
     "start_time": "2020-08-22T13:48:21.848338Z"
    }
   },
   "outputs": [
    {
     "data": {
      "text/plain": [
       "array(['<=50K.', '>50K.'], dtype=object)"
      ]
     },
     "execution_count": 6,
     "metadata": {},
     "output_type": "execute_result"
    }
   ],
   "source": [
    "#Found extra character in validation data target column\n",
    "data_val['income'].unique()"
   ]
  },
  {
   "cell_type": "markdown",
   "metadata": {},
   "source": [
    "### Null value check"
   ]
  },
  {
   "cell_type": "code",
   "execution_count": 7,
   "metadata": {
    "ExecuteTime": {
     "end_time": "2020-08-22T13:48:22.039339Z",
     "start_time": "2020-08-22T13:48:21.867337Z"
    }
   },
   "outputs": [
    {
     "name": "stdout",
     "output_type": "stream",
     "text": [
      "<class 'pandas.core.frame.DataFrame'>\n",
      "RangeIndex: 32561 entries, 0 to 32560\n",
      "Data columns (total 15 columns):\n",
      " #   Column          Non-Null Count  Dtype \n",
      "---  ------          --------------  ----- \n",
      " 0   age             32561 non-null  int64 \n",
      " 1   workclass       32561 non-null  object\n",
      " 2   fnlwgt          32561 non-null  int64 \n",
      " 3   education       32561 non-null  object\n",
      " 4   education-num   32561 non-null  int64 \n",
      " 5   marital-status  32561 non-null  object\n",
      " 6   occupation      32561 non-null  object\n",
      " 7   relationship    32561 non-null  object\n",
      " 8   race            32561 non-null  object\n",
      " 9   sex             32561 non-null  object\n",
      " 10  capital-gain    32561 non-null  int64 \n",
      " 11  capital-loss    32561 non-null  int64 \n",
      " 12  hours-per-week  32561 non-null  int64 \n",
      " 13  native-country  32561 non-null  object\n",
      " 14  income          32561 non-null  object\n",
      "dtypes: int64(6), object(9)\n",
      "memory usage: 3.7+ MB\n"
     ]
    }
   ],
   "source": [
    "data.info()"
   ]
  },
  {
   "cell_type": "markdown",
   "metadata": {
    "ExecuteTime": {
     "end_time": "2020-08-21T02:23:31.715334Z",
     "start_time": "2020-08-21T02:23:30.654335Z"
    }
   },
   "source": [
    "- No null/nan value found in data set"
   ]
  },
  {
   "cell_type": "code",
   "execution_count": 8,
   "metadata": {
    "ExecuteTime": {
     "end_time": "2020-08-22T13:48:22.163339Z",
     "start_time": "2020-08-22T13:48:22.052339Z"
    }
   },
   "outputs": [
    {
     "name": "stdout",
     "output_type": "stream",
     "text": [
      "<class 'pandas.core.frame.DataFrame'>\n",
      "RangeIndex: 16281 entries, 0 to 16280\n",
      "Data columns (total 15 columns):\n",
      " #   Column          Non-Null Count  Dtype \n",
      "---  ------          --------------  ----- \n",
      " 0   age             16281 non-null  int64 \n",
      " 1   workclass       16281 non-null  object\n",
      " 2   fnlwgt          16281 non-null  int64 \n",
      " 3   education       16281 non-null  object\n",
      " 4   education-num   16281 non-null  int64 \n",
      " 5   marital-status  16281 non-null  object\n",
      " 6   occupation      16281 non-null  object\n",
      " 7   relationship    16281 non-null  object\n",
      " 8   race            16281 non-null  object\n",
      " 9   sex             16281 non-null  object\n",
      " 10  capital-gain    16281 non-null  int64 \n",
      " 11  capital-loss    16281 non-null  int64 \n",
      " 12  hours-per-week  16281 non-null  int64 \n",
      " 13  native-country  16281 non-null  object\n",
      " 14  income          16281 non-null  object\n",
      "dtypes: int64(6), object(9)\n",
      "memory usage: 1.9+ MB\n"
     ]
    }
   ],
   "source": [
    "data_val.info()"
   ]
  },
  {
   "cell_type": "markdown",
   "metadata": {},
   "source": [
    "- No none/nan value found in test data set"
   ]
  },
  {
   "cell_type": "markdown",
   "metadata": {},
   "source": [
    "### Data Quality check"
   ]
  },
  {
   "cell_type": "markdown",
   "metadata": {},
   "source": [
    "#### Plotting each feature of Train data"
   ]
  },
  {
   "cell_type": "code",
   "execution_count": 9,
   "metadata": {
    "ExecuteTime": {
     "end_time": "2020-08-22T13:48:22.294341Z",
     "start_time": "2020-08-22T13:48:22.168340Z"
    }
   },
   "outputs": [],
   "source": [
    "def plot_distribution(dataset, cols=5, width=20, height=15, hspace=0.2, wspace=0.5):\n",
    "    plt.style.use('seaborn-whitegrid')\n",
    "    fig = plt.figure(figsize=(width,height))\n",
    "    fig.subplots_adjust(left=None, bottom=None, right=None, top=None, wspace=wspace, hspace=hspace)\n",
    "    rows = math.ceil(float(dataset.shape[1]) / cols)\n",
    "    for i, column in enumerate(dataset.columns):\n",
    "        ax = fig.add_subplot(rows, cols, i + 1)\n",
    "        ax.set_title(column)\n",
    "        if dataset.dtypes[column] == np.object:\n",
    "            g = sns.countplot(y=column, data=dataset)\n",
    "            substrings = [s.get_text()[:18] for s in g.get_yticklabels()]\n",
    "            g.set(yticklabels=substrings)\n",
    "            plt.xticks(rotation=25)\n",
    "        else:\n",
    "            g = sns.distplot(dataset[column])\n",
    "            plt.xticks(rotation=25)\n",
    "    \n"
   ]
  },
  {
   "cell_type": "code",
   "execution_count": 10,
   "metadata": {
    "ExecuteTime": {
     "end_time": "2020-08-22T13:48:29.084338Z",
     "start_time": "2020-08-22T13:48:22.301341Z"
    }
   },
   "outputs": [
    {
     "name": "stderr",
     "output_type": "stream",
     "text": [
      "C:\\ProgramData\\Anaconda3\\lib\\site-packages\\seaborn\\distributions.py:369: UserWarning: Default bandwidth for data is 0; skipping density estimation.\n",
      "  warnings.warn(msg, UserWarning)\n",
      "C:\\ProgramData\\Anaconda3\\lib\\site-packages\\seaborn\\distributions.py:369: UserWarning: Default bandwidth for data is 0; skipping density estimation.\n",
      "  warnings.warn(msg, UserWarning)\n"
     ]
    },
    {
     "data": {
      "image/png": "[encoded data removed]",
      "text/plain": [
       "<Figure size 1440x1440 with 15 Axes>"
      ]
     },
     "metadata": {},
     "output_type": "display_data"
    }
   ],
   "source": [
    "plot_distribution(data, cols=3, width=20, height=20, hspace=0.45, wspace=0.5)"
   ]
  },
  {
   "cell_type": "code",
   "execution_count": 11,
   "metadata": {},
   "outputs": [
    {
     "name": "stdout",
     "output_type": "stream",
     "text": [
      "\n",
      "Checking Skewness for Column \"fnlweight\" :  1.446913435142329\n"
     ]
    }
   ],
   "source": [
    "from scipy.stats import skew \n",
    "import numpy as np  \n",
    "import pylab as p \n",
    "  \n",
    "print( '\\nChecking Skewness for Column \"fnlweight\" : ', skew(data['fnlwgt'])) "
   ]
  },
  {
   "cell_type": "markdown",
   "metadata": {},
   "source": [
    "##### Obervations\n",
    "- Found one missing workclass as \"?\"\n",
    "- Found one missing Occaupation as \"?\"\n",
    "- Found 91.7% Zeros in Capital Gain and 95.3% in Capital loss\n",
    "- fnlweight is right skewed as Skewness is equated as 1.44 & right tail has more weight shown in above plot\n",
    "- Native country plot is not clear so need to create large plot for better understanding."
   ]
  },
  {
   "cell_type": "code",
   "execution_count": 12,
   "metadata": {
    "ExecuteTime": {
     "end_time": "2020-08-22T13:48:30.181338Z",
     "start_time": "2020-08-22T13:48:29.092338Z"
    }
   },
   "outputs": [
    {
     "data": {
      "text/plain": [
       "<matplotlib.axes._subplots.AxesSubplot at 0x218d98757c8>"
      ]
     },
     "execution_count": 12,
     "metadata": {},
     "output_type": "execute_result"
    },
    {
     "data": {
      "image/png": "[encoded data removed]",
      "text/plain": [
       "<Figure size 720x720 with 1 Axes>"
      ]
     },
     "metadata": {},
     "output_type": "display_data"
    }
   ],
   "source": [
    "fig = plt.figure(figsize=(10,10))\n",
    "sns.countplot(y='native-country', data=data)"
   ]
  },
  {
   "cell_type": "markdown",
   "metadata": {},
   "source": [
    "##### Observations\n",
    "- Found the missing value as \"?\" in native-country\n",
    "- Most of the records are from US\n",
    "\n",
    "Lets check the distribution"
   ]
  },
  {
   "cell_type": "markdown",
   "metadata": {
    "ExecuteTime": {
     "end_time": "2020-08-21T03:12:51.611442Z",
     "start_time": "2020-08-21T03:12:51.599444Z"
    }
   },
   "source": [
    "#### Missing value distribution in train data"
   ]
  },
  {
   "cell_type": "markdown",
   "metadata": {},
   "source": [
    "##### 1. Native Country"
   ]
  },
  {
   "cell_type": "code",
   "execution_count": 13,
   "metadata": {
    "ExecuteTime": {
     "end_time": "2020-08-22T13:48:30.276338Z",
     "start_time": "2020-08-22T13:48:30.189340Z"
    }
   },
   "outputs": [
    {
     "data": {
      "text/plain": [
       "native-country\n",
       "United-States                 89.585701\n",
       "Mexico                         1.974755\n",
       "?                              1.790486\n",
       "Philippines                    0.608089\n",
       "Germany                        0.420749\n",
       "Canada                         0.371610\n",
       "Puerto-Rico                    0.350112\n",
       "El-Salvador                    0.325543\n",
       "India                          0.307116\n",
       "Cuba                           0.291760\n",
       "England                        0.276404\n",
       "Jamaica                        0.248764\n",
       "South                          0.245693\n",
       "China                          0.230337\n",
       "Italy                          0.224195\n",
       "Dominican-Republic             0.214981\n",
       "Vietnam                        0.205768\n",
       "Guatemala                      0.196554\n",
       "Japan                          0.190412\n",
       "Poland                         0.184270\n",
       "Columbia                       0.181198\n",
       "Taiwan                         0.156629\n",
       "Haiti                          0.135131\n",
       "Iran                           0.132060\n",
       "Portugal                       0.113633\n",
       "Nicaragua                      0.104419\n",
       "Peru                           0.095206\n",
       "Greece                         0.089064\n",
       "France                         0.089064\n",
       "Ecuador                        0.085992\n",
       "Ireland                        0.073708\n",
       "Hong                           0.061423\n",
       "Cambodia                       0.058352\n",
       "Trinadad&Tobago                0.058352\n",
       "Laos                           0.055281\n",
       "Thailand                       0.055281\n",
       "Yugoslavia                     0.049139\n",
       "Outlying-US(Guam-USVI-etc)     0.042996\n",
       "Honduras                       0.039925\n",
       "Hungary                        0.039925\n",
       "Scotland                       0.036854\n",
       "Holand-Netherlands             0.003071\n",
       "Name: income, dtype: float64"
      ]
     },
     "execution_count": 13,
     "metadata": {},
     "output_type": "execute_result"
    }
   ],
   "source": [
    "(data.groupby(data['native-country'])['income'].count().sort_values(ascending=False)/data.shape[0])*100"
   ]
  },
  {
   "cell_type": "markdown",
   "metadata": {},
   "source": [
    "###### Observations\n",
    "- 89.5% records are from United state only 1.7% data is missing"
   ]
  },
  {
   "cell_type": "markdown",
   "metadata": {},
   "source": [
    "##### 2.  Workclass"
   ]
  },
  {
   "cell_type": "code",
   "execution_count": 14,
   "metadata": {
    "ExecuteTime": {
     "end_time": "2020-08-22T13:48:30.355346Z",
     "start_time": "2020-08-22T13:48:30.281341Z"
    }
   },
   "outputs": [
    {
     "data": {
      "text/plain": [
       "workclass\n",
       "Private             69.703019\n",
       "Self-emp-not-inc     7.803814\n",
       "Local-gov            6.427935\n",
       "?                    5.638647\n",
       "State-gov            3.986364\n",
       "Self-emp-inc         3.427413\n",
       "Federal-gov          2.948312\n",
       "Without-pay          0.042996\n",
       "Never-worked         0.021498\n",
       "Name: income, dtype: float64"
      ]
     },
     "execution_count": 14,
     "metadata": {},
     "output_type": "execute_result"
    }
   ],
   "source": [
    "(data.groupby(data['workclass'])['income'].count().sort_values(ascending=False)/data.shape[0])*100"
   ]
  },
  {
   "cell_type": "markdown",
   "metadata": {},
   "source": [
    "###### Observations\n",
    "\n",
    "- most of the people are from Private workclass (~70%)\n",
    "- Missing values are 5.6 %"
   ]
  },
  {
   "cell_type": "markdown",
   "metadata": {},
   "source": [
    "##### 3. occupation"
   ]
  },
  {
   "cell_type": "code",
   "execution_count": 15,
   "metadata": {
    "ExecuteTime": {
     "end_time": "2020-08-22T13:48:30.506341Z",
     "start_time": "2020-08-22T13:48:30.360341Z"
    }
   },
   "outputs": [
    {
     "data": {
      "text/plain": [
       "occupation\n",
       "Prof-specialty       1.271460\n",
       "Craft-repair         1.258868\n",
       "Exec-managerial      1.248733\n",
       "Adm-clerical         1.157827\n",
       "Sales                1.120973\n",
       "Other-service        1.011947\n",
       "Machine-op-inspct    0.614846\n",
       "?                    0.566015\n",
       "Transport-moving     0.490464\n",
       "Handlers-cleaners    0.420749\n",
       "Farming-fishing      0.305273\n",
       "Tech-support         0.285004\n",
       "Protective-serv      0.199318\n",
       "Priv-house-serv      0.045760\n",
       "Armed-Forces         0.002764\n",
       "Name: income, dtype: float64"
      ]
     },
     "execution_count": 15,
     "metadata": {},
     "output_type": "execute_result"
    }
   ],
   "source": [
    "(data.groupby(data['occupation'])['income'].count().sort_values(ascending=False)/data.shape[0])*10"
   ]
  },
  {
   "cell_type": "markdown",
   "metadata": {
    "ExecuteTime": {
     "end_time": "2020-08-21T03:29:17.474726Z",
     "start_time": "2020-08-21T03:29:17.461704Z"
    }
   },
   "source": [
    "###### Observations\n",
    "- Occupation is correctly distributed\n",
    "- 0.5 % occupation is missing"
   ]
  },
  {
   "cell_type": "markdown",
   "metadata": {},
   "source": [
    "##### 4. CapitalGain"
   ]
  },
  {
   "cell_type": "code",
   "execution_count": 16,
   "metadata": {
    "ExecuteTime": {
     "end_time": "2020-08-22T13:48:30.647343Z",
     "start_time": "2020-08-22T13:48:30.511340Z"
    }
   },
   "outputs": [
    {
     "name": "stdout",
     "output_type": "stream",
     "text": [
      "92.0 % of Capital Gain is having value as 0\n"
     ]
    }
   ],
   "source": [
    "print(\"{} % of Capital Gain is having value as 0\".format(round((data[data['capital-gain']==0]['income'].count()/data.shape[0])*100),2))"
   ]
  },
  {
   "cell_type": "markdown",
   "metadata": {},
   "source": [
    "##### 5. CapitalLoss"
   ]
  },
  {
   "cell_type": "code",
   "execution_count": 17,
   "metadata": {
    "ExecuteTime": {
     "end_time": "2020-08-22T13:48:30.766482Z",
     "start_time": "2020-08-22T13:48:30.652337Z"
    }
   },
   "outputs": [
    {
     "name": "stdout",
     "output_type": "stream",
     "text": [
      "95.0 % of Capital loss is having value as 0\n"
     ]
    }
   ],
   "source": [
    "print(\"{} % of Capital loss is having value as 0\".format(round((data[data['capital-loss']==0]['income'].count()/data.shape[0])*100),2))"
   ]
  },
  {
   "cell_type": "markdown",
   "metadata": {},
   "source": [
    "#### Plotting each feature of Test data"
   ]
  },
  {
   "cell_type": "code",
   "execution_count": 18,
   "metadata": {
    "ExecuteTime": {
     "end_time": "2020-08-22T13:48:37.536483Z",
     "start_time": "2020-08-22T13:48:30.771461Z"
    }
   },
   "outputs": [
    {
     "name": "stderr",
     "output_type": "stream",
     "text": [
      "C:\\ProgramData\\Anaconda3\\lib\\site-packages\\seaborn\\distributions.py:369: UserWarning: Default bandwidth for data is 0; skipping density estimation.\n",
      "  warnings.warn(msg, UserWarning)\n",
      "C:\\ProgramData\\Anaconda3\\lib\\site-packages\\seaborn\\distributions.py:369: UserWarning: Default bandwidth for data is 0; skipping density estimation.\n",
      "  warnings.warn(msg, UserWarning)\n"
     ]
    },
    {
     "data": {
      "image/png": "[encoded data removed]",
      "text/plain": [
       "<Figure size 1440x1440 with 15 Axes>"
      ]
     },
     "metadata": {},
     "output_type": "display_data"
    }
   ],
   "source": [
    "plot_distribution(data_val, cols=3, width=20, height=20, hspace=0.45, wspace=0.5)"
   ]
  },
  {
   "cell_type": "markdown",
   "metadata": {},
   "source": [
    "#### Missing value distribution in test data"
   ]
  },
  {
   "cell_type": "code",
   "execution_count": 19,
   "metadata": {
    "ExecuteTime": {
     "end_time": "2020-08-22T13:48:37.565467Z",
     "start_time": "2020-08-22T13:48:37.543467Z"
    }
   },
   "outputs": [
    {
     "data": {
      "text/plain": [
       "native-country\n",
       "United-States                 90.055893\n",
       "Mexico                         1.891776\n",
       "?                              1.682943\n",
       "Philippines                    0.595786\n",
       "Puerto-Rico                    0.429949\n",
       "Germany                        0.423807\n",
       "Canada                         0.374670\n",
       "India                          0.313249\n",
       "El-Salvador                    0.300964\n",
       "China                          0.288680\n",
       "Cuba                           0.264112\n",
       "England                        0.227259\n",
       "South                          0.214975\n",
       "Dominican-Republic             0.202690\n",
       "Italy                          0.196548\n",
       "Haiti                          0.190406\n",
       "Portugal                       0.184264\n",
       "Japan                          0.184264\n",
       "Poland                         0.165837\n",
       "Columbia                       0.159695\n",
       "Jamaica                        0.153553\n",
       "Guatemala                      0.147411\n",
       "Greece                         0.122843\n",
       "Vietnam                        0.116700\n",
       "Ecuador                        0.104416\n",
       "Iran                           0.098274\n",
       "Peru                           0.092132\n",
       "Nicaragua                      0.092132\n",
       "Taiwan                         0.085990\n",
       "Ireland                        0.079848\n",
       "Thailand                       0.073706\n",
       "Hong                           0.061421\n",
       "France                         0.055279\n",
       "Outlying-US(Guam-USVI-etc)     0.055279\n",
       "Scotland                       0.055279\n",
       "Cambodia                       0.055279\n",
       "Trinadad&Tobago                0.049137\n",
       "Honduras                       0.042995\n",
       "Yugoslavia                     0.042995\n",
       "Hungary                        0.036853\n",
       "Laos                           0.030711\n",
       "Name: income, dtype: float64"
      ]
     },
     "execution_count": 19,
     "metadata": {},
     "output_type": "execute_result"
    }
   ],
   "source": [
    "(data_val.groupby(data_val['native-country'])['income'].count().sort_values(ascending=False)/data_val.shape[0])*100"
   ]
  },
  {
   "cell_type": "code",
   "execution_count": 20,
   "metadata": {
    "ExecuteTime": {
     "end_time": "2020-08-22T13:48:37.711468Z",
     "start_time": "2020-08-22T13:48:37.570462Z"
    }
   },
   "outputs": [
    {
     "data": {
      "text/plain": [
       "workclass\n",
       "Private             68.853265\n",
       "Self-emp-not-inc     8.113752\n",
       "Local-gov            6.406240\n",
       "?                    5.914870\n",
       "State-gov            4.195074\n",
       "Self-emp-inc         3.556293\n",
       "Federal-gov          2.899085\n",
       "Without-pay          0.042995\n",
       "Never-worked         0.018426\n",
       "Name: income, dtype: float64"
      ]
     },
     "execution_count": 20,
     "metadata": {},
     "output_type": "execute_result"
    }
   ],
   "source": [
    "(data_val.groupby(data_val['workclass'])['income'].count().sort_values(ascending=False)/data_val.shape[0])*100"
   ]
  },
  {
   "cell_type": "code",
   "execution_count": 21,
   "metadata": {
    "ExecuteTime": {
     "end_time": "2020-08-22T13:48:37.826469Z",
     "start_time": "2020-08-22T13:48:37.716464Z"
    }
   },
   "outputs": [
    {
     "data": {
      "text/plain": [
       "occupation\n",
       "Prof-specialty       1.248081\n",
       "Exec-managerial      1.240710\n",
       "Craft-repair         1.236411\n",
       "Sales                1.138751\n",
       "Adm-clerical         1.130766\n",
       "Other-service        0.999939\n",
       "Machine-op-inspct    0.626497\n",
       "?                    0.593330\n",
       "Transport-moving     0.465573\n",
       "Handlers-cleaners    0.431177\n",
       "Tech-support         0.318162\n",
       "Farming-fishing      0.304650\n",
       "Protective-serv      0.205147\n",
       "Priv-house-serv      0.057122\n",
       "Armed-Forces         0.003685\n",
       "Name: income, dtype: float64"
      ]
     },
     "execution_count": 21,
     "metadata": {},
     "output_type": "execute_result"
    }
   ],
   "source": [
    "(data_val.groupby(data_val['occupation'])['income'].count().sort_values(ascending=False)/data_val.shape[0])*10"
   ]
  },
  {
   "cell_type": "code",
   "execution_count": 22,
   "metadata": {
    "ExecuteTime": {
     "end_time": "2020-08-22T13:48:37.942465Z",
     "start_time": "2020-08-22T13:48:37.830463Z"
    }
   },
   "outputs": [
    {
     "name": "stdout",
     "output_type": "stream",
     "text": [
      "92.0 % of Capital Gain is having value as 0\n"
     ]
    }
   ],
   "source": [
    "print(\"{} % of Capital Gain is having value as 0\".format(round((data_val[data_val['capital-gain']==0]['income'].count()/data_val.shape[0])*100),2))"
   ]
  },
  {
   "cell_type": "code",
   "execution_count": 23,
   "metadata": {
    "ExecuteTime": {
     "end_time": "2020-08-22T13:48:38.074529Z",
     "start_time": "2020-08-22T13:48:37.946470Z"
    }
   },
   "outputs": [
    {
     "name": "stdout",
     "output_type": "stream",
     "text": [
      "95.0 % of Capital loss is having value as 0\n"
     ]
    }
   ],
   "source": [
    "print(\"{} % of Capital loss is having value as 0\".format(round((data_val[data_val['capital-loss']==0]['income'].count()/data_val.shape[0])*100),2))"
   ]
  },
  {
   "cell_type": "markdown",
   "metadata": {},
   "source": [
    "##### Observations\n",
    "- As per the missing value distribution in data and validation set data, we have found similar distribution for \"?\". \n",
    "- Hence We will converting \"?\" to \"Unknown\" Category rather removing the records.\n",
    "- Capital Loss and Capital Gain both are having same pattern in Data and validation data set. Hence at this point of time we are not sure about keeping it or removing it "
   ]
  },
  {
   "cell_type": "markdown",
   "metadata": {},
   "source": [
    "### Handling Missing Values"
   ]
  },
  {
   "cell_type": "markdown",
   "metadata": {
    "ExecuteTime": {
     "end_time": "2020-08-21T17:43:17.003408Z",
     "start_time": "2020-08-21T17:43:16.996407Z"
    }
   },
   "source": [
    "##### For Given Data"
   ]
  },
  {
   "cell_type": "code",
   "execution_count": 24,
   "metadata": {
    "ExecuteTime": {
     "end_time": "2020-08-22T13:48:38.203542Z",
     "start_time": "2020-08-22T13:48:38.079522Z"
    }
   },
   "outputs": [],
   "source": [
    "data.loc[(data['native-country']=='?'),'native-country']=\"Unknown\""
   ]
  },
  {
   "cell_type": "code",
   "execution_count": 25,
   "metadata": {
    "ExecuteTime": {
     "end_time": "2020-08-22T13:48:38.331545Z",
     "start_time": "2020-08-22T13:48:38.208531Z"
    }
   },
   "outputs": [],
   "source": [
    "data.loc[(data['workclass']=='?'),'workclass']=\"Unknown\""
   ]
  },
  {
   "cell_type": "code",
   "execution_count": 26,
   "metadata": {
    "ExecuteTime": {
     "end_time": "2020-08-22T13:48:38.473544Z",
     "start_time": "2020-08-22T13:48:38.342527Z"
    }
   },
   "outputs": [],
   "source": [
    "data.loc[(data['occupation']=='?'),'occupation']=\"Unknown\""
   ]
  },
  {
   "cell_type": "markdown",
   "metadata": {
    "ExecuteTime": {
     "end_time": "2020-08-21T17:34:51.644658Z",
     "start_time": "2020-08-21T17:34:51.523643Z"
    }
   },
   "source": [
    "##### For validation Data"
   ]
  },
  {
   "cell_type": "code",
   "execution_count": 27,
   "metadata": {
    "ExecuteTime": {
     "end_time": "2020-08-22T13:48:38.636719Z",
     "start_time": "2020-08-22T13:48:38.481530Z"
    }
   },
   "outputs": [],
   "source": [
    "data_val.loc[(data_val['native-country']=='?'),'native-country']=\"Unknown\"\n",
    "data_val.loc[(data_val['workclass']=='?'),'workclass']=\"Unknown\"\n",
    "data_val.loc[(data_val['occupation']=='?'),'occupation']=\"Unknown\""
   ]
  },
  {
   "cell_type": "markdown",
   "metadata": {},
   "source": [
    "### Validating the independent features importance on target"
   ]
  },
  {
   "cell_type": "markdown",
   "metadata": {},
   "source": [
    "#### income vs Race"
   ]
  },
  {
   "cell_type": "code",
   "execution_count": 28,
   "metadata": {
    "ExecuteTime": {
     "end_time": "2020-08-22T13:48:39.205716Z",
     "start_time": "2020-08-22T13:48:38.641714Z"
    },
    "cell_style": "center"
   },
   "outputs": [
    {
     "data": {
      "text/plain": [
       "<matplotlib.axes._subplots.AxesSubplot at 0x218d687f848>"
      ]
     },
     "execution_count": 28,
     "metadata": {},
     "output_type": "execute_result"
    },
    {
     "data": {
      "image/png": "[encoded data removed]",
      "text/plain": [
       "<Figure size 720x288 with 1 Axes>"
      ]
     },
     "metadata": {},
     "output_type": "display_data"
    }
   ],
   "source": [
    "fig = plt.figure(figsize=(10,4))\n",
    "sns.countplot(x='income', hue='race', data =data)"
   ]
  },
  {
   "cell_type": "code",
   "execution_count": 29,
   "metadata": {
    "ExecuteTime": {
     "end_time": "2020-08-22T13:48:39.621711Z",
     "start_time": "2020-08-22T13:48:39.210712Z"
    },
    "cell_style": "center"
   },
   "outputs": [
    {
     "data": {
      "text/plain": [
       "<matplotlib.axes._subplots.AxesSubplot at 0x218d6771dc8>"
      ]
     },
     "execution_count": 29,
     "metadata": {},
     "output_type": "execute_result"
    },
    {
     "data": {
      "image/png": "[encoded data removed]",
      "text/plain": [
       "<Figure size 720x288 with 1 Axes>"
      ]
     },
     "metadata": {},
     "output_type": "display_data"
    }
   ],
   "source": [
    "fig = plt.figure(figsize=(10,4))\n",
    "sns.countplot(x='income', hue='race', data =data_val)"
   ]
  },
  {
   "cell_type": "markdown",
   "metadata": {},
   "source": [
    "##### Observations\n",
    "- If Race='white' then we have high probability to have salary>50K\n",
    "- If Race is in Amer-Indian-Eskimo or other then we can not have Salary>50K"
   ]
  },
  {
   "cell_type": "markdown",
   "metadata": {},
   "source": [
    "#### income vs Relationship"
   ]
  },
  {
   "cell_type": "code",
   "execution_count": 30,
   "metadata": {
    "ExecuteTime": {
     "end_time": "2020-08-22T13:48:40.126709Z",
     "start_time": "2020-08-22T13:48:39.626710Z"
    },
    "cell_style": "center"
   },
   "outputs": [
    {
     "data": {
      "text/plain": [
       "<matplotlib.axes._subplots.AxesSubplot at 0x218d66f1588>"
      ]
     },
     "execution_count": 30,
     "metadata": {},
     "output_type": "execute_result"
    },
    {
     "data": {
      "image/png": "[encoded data removed]",
      "text/plain": [
       "<Figure size 1080x360 with 1 Axes>"
      ]
     },
     "metadata": {},
     "output_type": "display_data"
    }
   ],
   "source": [
    "fig = plt.figure(figsize=(15,5))\n",
    "sns.countplot(x='income', hue='relationship', data =data)"
   ]
  },
  {
   "cell_type": "code",
   "execution_count": 31,
   "metadata": {
    "ExecuteTime": {
     "end_time": "2020-08-22T13:48:40.620712Z",
     "start_time": "2020-08-22T13:48:40.131712Z"
    }
   },
   "outputs": [
    {
     "data": {
      "text/plain": [
       "<matplotlib.axes._subplots.AxesSubplot at 0x218d894c348>"
      ]
     },
     "execution_count": 31,
     "metadata": {},
     "output_type": "execute_result"
    },
    {
     "data": {
      "image/png": "[encoded data removed]",
      "text/plain": [
       "<Figure size 1080x360 with 1 Axes>"
      ]
     },
     "metadata": {},
     "output_type": "display_data"
    }
   ],
   "source": [
    "fig = plt.figure(figsize=(15,5))\n",
    "sns.countplot(x='income', hue='relationship', data =data_val)"
   ]
  },
  {
   "cell_type": "markdown",
   "metadata": {},
   "source": [
    "##### Observations\n",
    "- if Relationship=Husband then we have high chance to have Salary>50K"
   ]
  },
  {
   "cell_type": "markdown",
   "metadata": {},
   "source": [
    "#### Salary vs marital-status"
   ]
  },
  {
   "cell_type": "code",
   "execution_count": 32,
   "metadata": {
    "ExecuteTime": {
     "end_time": "2020-08-22T13:48:41.138715Z",
     "start_time": "2020-08-22T13:48:40.625710Z"
    }
   },
   "outputs": [
    {
     "data": {
      "text/plain": [
       "<matplotlib.axes._subplots.AxesSubplot at 0x218d8c09a88>"
      ]
     },
     "execution_count": 32,
     "metadata": {},
     "output_type": "execute_result"
    },
    {
     "data": {
      "image/png": "[encoded data removed]",
      "text/plain": [
       "<Figure size 1080x360 with 1 Axes>"
      ]
     },
     "metadata": {},
     "output_type": "display_data"
    }
   ],
   "source": [
    "fig = plt.figure(figsize=(15,5))\n",
    "sns.countplot(x='income', hue='marital-status', data =data)"
   ]
  },
  {
   "cell_type": "code",
   "execution_count": 33,
   "metadata": {
    "ExecuteTime": {
     "end_time": "2020-08-22T13:48:41.644709Z",
     "start_time": "2020-08-22T13:48:41.143713Z"
    }
   },
   "outputs": [
    {
     "data": {
      "text/plain": [
       "<matplotlib.axes._subplots.AxesSubplot at 0x218d684d608>"
      ]
     },
     "execution_count": 33,
     "metadata": {},
     "output_type": "execute_result"
    },
    {
     "data": {
      "image/png": "[encoded data removed]",
      "text/plain": [
       "<Figure size 1080x360 with 1 Axes>"
      ]
     },
     "metadata": {},
     "output_type": "display_data"
    }
   ],
   "source": [
    "fig = plt.figure(figsize=(15,5))\n",
    "sns.countplot(x='income', hue='marital-status', data =data_val)"
   ]
  },
  {
   "cell_type": "markdown",
   "metadata": {},
   "source": [
    "#### income vs Age"
   ]
  },
  {
   "cell_type": "code",
   "execution_count": 34,
   "metadata": {
    "ExecuteTime": {
     "end_time": "2020-08-22T13:48:42.160709Z",
     "start_time": "2020-08-22T13:48:41.650713Z"
    },
    "cell_style": "split"
   },
   "outputs": [
    {
     "name": "stdout",
     "output_type": "stream",
     "text": [
      "Min \n",
      " income\n",
      "<=50K    17\n",
      ">50K     19\n",
      "Name: age, dtype: int64\n"
     ]
    },
    {
     "data": {
      "text/plain": [
       "income\n",
       "<=50K    34\n",
       ">50K     44\n",
       "Name: age, dtype: int64"
      ]
     },
     "execution_count": 34,
     "metadata": {},
     "output_type": "execute_result"
    },
    {
     "data": {
      "image/png": "[encoded data removed]",
      "text/plain": [
       "<Figure size 504x504 with 1 Axes>"
      ]
     },
     "metadata": {},
     "output_type": "display_data"
    }
   ],
   "source": [
    "fig = plt.figure(figsize=(7,7))\n",
    "sns.boxplot(x='income',y='age', data=data, palette='winter')\n",
    "sns.set_style('whitegrid')\n",
    "print(\"Min \\n\", data.groupby('income')['age'].min())\n",
    "data.groupby('income')['age'].median()\n"
   ]
  },
  {
   "cell_type": "code",
   "execution_count": 35,
   "metadata": {
    "ExecuteTime": {
     "end_time": "2020-08-22T13:48:42.558731Z",
     "start_time": "2020-08-22T13:48:42.164712Z"
    },
    "cell_style": "split"
   },
   "outputs": [
    {
     "name": "stdout",
     "output_type": "stream",
     "text": [
      "Min \n",
      " income\n",
      "<=50K.    17\n",
      ">50K.     19\n",
      "Name: age, dtype: int64\n"
     ]
    },
    {
     "data": {
      "text/plain": [
       "income\n",
       "<=50K.    34\n",
       ">50K.     43\n",
       "Name: age, dtype: int64"
      ]
     },
     "execution_count": 35,
     "metadata": {},
     "output_type": "execute_result"
    },
    {
     "data": {
      "image/png": "[encoded data removed]",
      "text/plain": [
       "<Figure size 504x504 with 1 Axes>"
      ]
     },
     "metadata": {},
     "output_type": "display_data"
    }
   ],
   "source": [
    "fig = plt.figure(figsize=(7,7))\n",
    "sns.boxplot(x='income',y='age', data=data_val, palette='winter')\n",
    "sns.set_style('whitegrid')\n",
    "print(\"Min \\n\", data_val.groupby('income')['age'].min())\n",
    "data_val.groupby('income')['age'].median()"
   ]
  },
  {
   "cell_type": "markdown",
   "metadata": {},
   "source": [
    "##### Observation\n",
    "- Median Age to have Salary>50K is ~44 where as <50k is ~34. \n",
    "- Min age to have Salary>50k is 19 where as <50K is 17."
   ]
  },
  {
   "cell_type": "markdown",
   "metadata": {},
   "source": [
    "## Data Preprocessing"
   ]
  },
  {
   "cell_type": "code",
   "execution_count": 36,
   "metadata": {
    "ExecuteTime": {
     "end_time": "2020-08-22T13:48:42.574715Z",
     "start_time": "2020-08-22T13:48:42.563713Z"
    }
   },
   "outputs": [
    {
     "data": {
      "text/plain": [
       "Index(['age', 'workclass', 'fnlwgt', 'education', 'education-num',\n",
       "       'marital-status', 'occupation', 'relationship', 'race', 'sex',\n",
       "       'capital-gain', 'capital-loss', 'hours-per-week', 'native-country',\n",
       "       'income'],\n",
       "      dtype='object')"
      ]
     },
     "execution_count": 36,
     "metadata": {},
     "output_type": "execute_result"
    }
   ],
   "source": [
    "data.columns"
   ]
  },
  {
   "cell_type": "code",
   "execution_count": 37,
   "metadata": {
    "ExecuteTime": {
     "end_time": "2020-08-22T13:48:42.706797Z",
     "start_time": "2020-08-22T13:48:42.580712Z"
    }
   },
   "outputs": [
    {
     "data": {
      "text/plain": [
       "Index(['age', 'workclass', 'fnlwgt', 'education', 'education-num',\n",
       "       'marital-status', 'occupation', 'relationship', 'race', 'sex',\n",
       "       'capital-gain', 'capital-loss', 'hours-per-week', 'native-country',\n",
       "       'income'],\n",
       "      dtype='object')"
      ]
     },
     "execution_count": 37,
     "metadata": {},
     "output_type": "execute_result"
    }
   ],
   "source": [
    "data_val.columns"
   ]
  },
  {
   "cell_type": "markdown",
   "metadata": {},
   "source": [
    "#### Encoding for Target Variable"
   ]
  },
  {
   "cell_type": "code",
   "execution_count": 38,
   "metadata": {
    "ExecuteTime": {
     "end_time": "2020-08-22T13:48:42.834798Z",
     "start_time": "2020-08-22T13:48:42.711782Z"
    }
   },
   "outputs": [],
   "source": [
    "#Encoding the target varibale\n",
    "data['income']=data['income'].map({'<=50K':0,'>50K':1})\n",
    "data_val['income']=data_val['income'].map({'<=50K.':0,'>50K.':1})"
   ]
  },
  {
   "cell_type": "code",
   "execution_count": 39,
   "metadata": {
    "ExecuteTime": {
     "end_time": "2020-08-22T13:48:42.953787Z",
     "start_time": "2020-08-22T13:48:42.840778Z"
    }
   },
   "outputs": [
    {
     "data": {
      "text/plain": [
       "0    75.919044\n",
       "1    24.080956\n",
       "Name: income, dtype: float64"
      ]
     },
     "execution_count": 39,
     "metadata": {},
     "output_type": "execute_result"
    }
   ],
   "source": [
    "(data['income'].value_counts()/data.shape[0])*100"
   ]
  },
  {
   "cell_type": "code",
   "execution_count": 40,
   "metadata": {
    "ExecuteTime": {
     "end_time": "2020-08-22T13:48:43.109176Z",
     "start_time": "2020-08-22T13:48:42.958776Z"
    }
   },
   "outputs": [
    {
     "data": {
      "text/plain": [
       "0    76.377372\n",
       "1    23.622628\n",
       "Name: income, dtype: float64"
      ]
     },
     "execution_count": 40,
     "metadata": {},
     "output_type": "execute_result"
    }
   ],
   "source": [
    "(data_val['income'].value_counts()/data_val.shape[0])*100"
   ]
  },
  {
   "cell_type": "markdown",
   "metadata": {},
   "source": [
    "Removiing Imabalance from Income Column"
   ]
  },
  {
   "cell_type": "code",
   "execution_count": 41,
   "metadata": {},
   "outputs": [
    {
     "name": "stdout",
     "output_type": "stream",
     "text": [
      "Count of \"O\" in Column Income:  24720\n",
      "Count of \"1\" in Column Income:  7841\n"
     ]
    }
   ],
   "source": [
    "#Count for each label in Income column\n",
    "income_0, income_1 = data.income.value_counts()\n",
    "print('Count of \"O\" in Column Income: ', income_0)\n",
    "print('Count of \"1\" in Column Income: ', income_1)\n",
    "\n",
    "# Divide by class\n",
    "data_0 = data[data['income'] == 0]\n",
    "data_1 = data[data['income'] == 1]"
   ]
  },
  {
   "cell_type": "code",
   "execution_count": 42,
   "metadata": {},
   "outputs": [
    {
     "name": "stdout",
     "output_type": "stream",
     "text": [
      "Randomly under-sampling:\n",
      "1    7841\n",
      "0    7841\n",
      "Name: income, dtype: int64\n"
     ]
    },
    {
     "data": {
      "image/png": "[encoded data removed]",
      "text/plain": [
       "<Figure size 576x396 with 1 Axes>"
      ]
     },
     "metadata": {},
     "output_type": "display_data"
    }
   ],
   "source": [
    "#randomly under-sampling majority class in Income column\n",
    "\n",
    "data_class_0_under_samp = data_0.sample(income_1)\n",
    "data_conc_under_samp = pd.concat([data_class_0_under_samp, data_1], axis=0)\n",
    "\n",
    "print('Randomly under-sampling:')\n",
    "print(data_conc_under_samp.income.value_counts())\n",
    "\n",
    "data_conc_under_samp.income.value_counts().plot(kind='bar', title='Count (target)');"
   ]
  },
  {
   "cell_type": "code",
   "execution_count": 43,
   "metadata": {},
   "outputs": [
    {
     "name": "stdout",
     "output_type": "stream",
     "text": [
      "Random over-sampling:\n",
      "1    24720\n",
      "0    24720\n",
      "Name: income, dtype: int64\n"
     ]
    },
    {
     "data": {
      "image/png": "[encoded data removed]",
      "text/plain": [
       "<Figure size 576x396 with 1 Axes>"
      ]
     },
     "metadata": {},
     "output_type": "display_data"
    }
   ],
   "source": [
    "#randomly over-sampling minority class in Income column\n",
    "\n",
    "data_class_1_over_samp = data_1.sample(income_0, replace=True)\n",
    "data_conc_over_samp = pd.concat([data_0, data_class_1_over_samp], axis=0)\n",
    "\n",
    "print('Random over-sampling:')\n",
    "print(data_conc_over_samp.income.value_counts())\n",
    "\n",
    "data_conc_over_samp.income.value_counts().plot(kind='bar', title='Count (target)');"
   ]
  },
  {
   "cell_type": "markdown",
   "metadata": {},
   "source": [
    "#### Removing duplicate column"
   ]
  },
  {
   "cell_type": "code",
   "execution_count": 44,
   "metadata": {
    "ExecuteTime": {
     "end_time": "2020-08-22T13:48:43.261186Z",
     "start_time": "2020-08-22T13:48:43.114198Z"
    }
   },
   "outputs": [],
   "source": [
    "# Let's drop \"education.num\" feature. We will use one-hot encoding instead.\n",
    "data.drop(\"education-num\",axis=1,inplace=True)\n",
    "data_val.drop(\"education-num\",axis=1,inplace=True)"
   ]
  },
  {
   "cell_type": "markdown",
   "metadata": {},
   "source": [
    "#### Validating the distinct value before applying one-hot encoding"
   ]
  },
  {
   "cell_type": "code",
   "execution_count": 45,
   "metadata": {
    "ExecuteTime": {
     "end_time": "2020-08-22T13:48:43.426275Z",
     "start_time": "2020-08-22T13:48:43.265177Z"
    }
   },
   "outputs": [
    {
     "data": {
      "text/html": [
       "<div>\n",
       "<style scoped>\n",
       "    .dataframe tbody tr th:only-of-type {\n",
       "        vertical-align: middle;\n",
       "    }\n",
       "\n",
       "    .dataframe tbody tr th {\n",
       "        vertical-align: top;\n",
       "    }\n",
       "\n",
       "    .dataframe thead th {\n",
       "        text-align: right;\n",
       "    }\n",
       "</style>\n",
       "<table border=\"1\" class=\"dataframe\">\n",
       "  <thead>\n",
       "    <tr style=\"text-align: right;\">\n",
       "      <th></th>\n",
       "      <th>Field</th>\n",
       "      <th>Distinct_value</th>\n",
       "    </tr>\n",
       "  </thead>\n",
       "  <tbody>\n",
       "    <tr>\n",
       "      <th>7</th>\n",
       "      <td>native-country</td>\n",
       "      <td>42</td>\n",
       "    </tr>\n",
       "    <tr>\n",
       "      <th>1</th>\n",
       "      <td>education</td>\n",
       "      <td>16</td>\n",
       "    </tr>\n",
       "    <tr>\n",
       "      <th>3</th>\n",
       "      <td>occupation</td>\n",
       "      <td>15</td>\n",
       "    </tr>\n",
       "    <tr>\n",
       "      <th>0</th>\n",
       "      <td>workclass</td>\n",
       "      <td>9</td>\n",
       "    </tr>\n",
       "    <tr>\n",
       "      <th>2</th>\n",
       "      <td>marital-status</td>\n",
       "      <td>7</td>\n",
       "    </tr>\n",
       "    <tr>\n",
       "      <th>4</th>\n",
       "      <td>relationship</td>\n",
       "      <td>6</td>\n",
       "    </tr>\n",
       "    <tr>\n",
       "      <th>5</th>\n",
       "      <td>race</td>\n",
       "      <td>5</td>\n",
       "    </tr>\n",
       "    <tr>\n",
       "      <th>6</th>\n",
       "      <td>sex</td>\n",
       "      <td>2</td>\n",
       "    </tr>\n",
       "  </tbody>\n",
       "</table>\n",
       "</div>"
      ],
      "text/plain": [
       "            Field  Distinct_value\n",
       "7  native-country              42\n",
       "1       education              16\n",
       "3      occupation              15\n",
       "0       workclass               9\n",
       "2  marital-status               7\n",
       "4    relationship               6\n",
       "5            race               5\n",
       "6             sex               2"
      ]
     },
     "execution_count": 45,
     "metadata": {},
     "output_type": "execute_result"
    }
   ],
   "source": [
    "frequency={}\n",
    "for i in ['workclass', 'education', 'marital-status',\n",
    "       'occupation', 'relationship', 'race', 'sex', 'native-country']:\n",
    "    frequency[i]=data[i].nunique()\n",
    "    \n",
    "freqdf=pd.DataFrame.from_dict(frequency,orient='index').reset_index()\n",
    "freqdf.columns=[\"Field\",\"Distinct_value\"]\n",
    "freqdf.sort_values(by=\"Distinct_value\",ascending=False)"
   ]
  },
  {
   "cell_type": "markdown",
   "metadata": {},
   "source": [
    "- As per above analysis, we have observed that Native-Country has huge Distinct_value. \n",
    "- Hence we can not apply the one-hot encoding. \n",
    "- Based on the past experience, we haver choose to apply Weight evidence encoding. "
   ]
  },
  {
   "cell_type": "markdown",
   "metadata": {},
   "source": [
    "#### Weight Of Evidence Encoding for Native-country"
   ]
  },
  {
   "cell_type": "code",
   "execution_count": 46,
   "metadata": {
    "ExecuteTime": {
     "end_time": "2020-08-22T13:48:43.529276Z",
     "start_time": "2020-08-22T13:48:43.431273Z"
    }
   },
   "outputs": [
    {
     "data": {
      "text/html": [
       "<div>\n",
       "<style scoped>\n",
       "    .dataframe tbody tr th:only-of-type {\n",
       "        vertical-align: middle;\n",
       "    }\n",
       "\n",
       "    .dataframe tbody tr th {\n",
       "        vertical-align: top;\n",
       "    }\n",
       "\n",
       "    .dataframe thead th {\n",
       "        text-align: right;\n",
       "    }\n",
       "</style>\n",
       "<table border=\"1\" class=\"dataframe\">\n",
       "  <thead>\n",
       "    <tr style=\"text-align: right;\">\n",
       "      <th></th>\n",
       "      <th>income</th>\n",
       "    </tr>\n",
       "    <tr>\n",
       "      <th>native-country</th>\n",
       "      <th></th>\n",
       "    </tr>\n",
       "  </thead>\n",
       "  <tbody>\n",
       "    <tr>\n",
       "      <th>Iran</th>\n",
       "      <td>0.418605</td>\n",
       "    </tr>\n",
       "    <tr>\n",
       "      <th>France</th>\n",
       "      <td>0.413793</td>\n",
       "    </tr>\n",
       "    <tr>\n",
       "      <th>India</th>\n",
       "      <td>0.400000</td>\n",
       "    </tr>\n",
       "    <tr>\n",
       "      <th>Taiwan</th>\n",
       "      <td>0.392157</td>\n",
       "    </tr>\n",
       "    <tr>\n",
       "      <th>Japan</th>\n",
       "      <td>0.387097</td>\n",
       "    </tr>\n",
       "    <tr>\n",
       "      <th>Yugoslavia</th>\n",
       "      <td>0.375000</td>\n",
       "    </tr>\n",
       "    <tr>\n",
       "      <th>Cambodia</th>\n",
       "      <td>0.368421</td>\n",
       "    </tr>\n",
       "    <tr>\n",
       "      <th>Italy</th>\n",
       "      <td>0.342466</td>\n",
       "    </tr>\n",
       "    <tr>\n",
       "      <th>England</th>\n",
       "      <td>0.333333</td>\n",
       "    </tr>\n",
       "    <tr>\n",
       "      <th>Canada</th>\n",
       "      <td>0.322314</td>\n",
       "    </tr>\n",
       "  </tbody>\n",
       "</table>\n",
       "</div>"
      ],
      "text/plain": [
       "                  income\n",
       "native-country          \n",
       "Iran            0.418605\n",
       "France          0.413793\n",
       "India           0.400000\n",
       "Taiwan          0.392157\n",
       "Japan           0.387097\n",
       "Yugoslavia      0.375000\n",
       "Cambodia        0.368421\n",
       "Italy           0.342466\n",
       "England         0.333333\n",
       "Canada          0.322314"
      ]
     },
     "execution_count": 46,
     "metadata": {},
     "output_type": "execute_result"
    }
   ],
   "source": [
    "prob_df = data.groupby(['native-country'])['income'].mean()\n",
    "prob_df = pd.DataFrame(prob_df)\n",
    "prob_df.sort_values(by='income',ascending=False).iloc[:10]"
   ]
  },
  {
   "cell_type": "markdown",
   "metadata": {},
   "source": [
    "Observation:-\n",
    "- Although 89.5% records are from United state but it is not part of country which help to idetify the >50K income."
   ]
  },
  {
   "cell_type": "code",
   "execution_count": 47,
   "metadata": {
    "ExecuteTime": {
     "end_time": "2020-08-22T13:48:43.636354Z",
     "start_time": "2020-08-22T13:48:43.533272Z"
    }
   },
   "outputs": [],
   "source": [
    "#Weight of Evidence encoding function\n",
    "\n",
    "def WOE(df,column,targetcolumn,train_data,woe_lables={}):\n",
    "    if train_data==1:\n",
    "        prob_df=df.groupby([column])[targetcolumn].mean()\n",
    "        prob_df=pd.DataFrame(prob_df)\n",
    "        prob_df['Not_'+targetcolumn]=1-prob_df[targetcolumn]\n",
    "        # since the log of zero is not defined\n",
    "        prob_df.loc[prob_df[targetcolumn] == 0, targetcolumn] = 0.00001\n",
    "        prob_df.loc[prob_df['Not_'+targetcolumn] == 0, 'Not_'+targetcolumn] = 0.00001\n",
    "        prob_df['WOE']=np.log(prob_df[targetcolumn]/prob_df['Not_'+targetcolumn])\n",
    "        woe_lables=prob_df['WOE'].to_dict()\n",
    "        df['WOE_'+column]=df[column].map(woe_lables)\n",
    "    else:\n",
    "        df['WOE_'+column]=df[column].map(woe_lables)\n",
    "    return woe_lables"
   ]
  },
  {
   "cell_type": "code",
   "execution_count": 48,
   "metadata": {
    "ExecuteTime": {
     "end_time": "2020-08-22T13:48:43.802333Z",
     "start_time": "2020-08-22T13:48:43.641337Z"
    }
   },
   "outputs": [
    {
     "name": "stdout",
     "output_type": "stream",
     "text": [
      "{'Cambodia': -0.5389965007326869, 'Canada': -0.7431576011346067, 'China': -1.01160091167848, 'Columbia': -3.349904087274605, 'Cuba': -1.0296194171811583, 'Dominican-Republic': -3.5263605246161616, 'Ecuador': -1.791759469228055, 'El-Salvador': -2.3774864011671637, 'England': -0.6931471805599454, 'France': -0.34830669426821587, 'Germany': -0.7484098592349947, 'Greece': -0.9650808960435872, 'Guatemala': -3.012261575505202, 'Haiti': -2.3025850929940455, 'Holand-Netherlands': -11.512925464970229, 'Honduras': -2.4849066497880004, 'Hong': -0.8472978603872036, 'Hungary': -1.203972804325936, 'India': -0.4054651081081643, 'Iran': -0.32850406697203594, 'Ireland': -1.33500106673234, 'Italy': -0.6523251860396901, 'Jamaica': -1.9600947840472698, 'Japan': -0.4595323293784402, 'Laos': -2.0794415416798357, 'Mexico': -2.9169513957008766, 'Nicaragua': -2.772588722239781, 'Outlying-US(Guam-USVI-etc)': -11.512925464970229, 'Peru': -2.6741486494265287, 'Philippines': -0.8091070616548137, 'Poland': -1.3862943611198906, 'Portugal': -2.1102132003465894, 'Puerto-Rico': -2.1400661634962708, 'Scotland': -1.0986122886681098, 'South': -1.3862943611198906, 'Taiwan': -0.4382549309311555, 'Thailand': -1.6094379124341005, 'Trinadad&Tobago': -2.1400661634962708, 'United-States': -1.1209518828793343, 'Unknown': -1.096326573387254, 'Vietnam': -2.517696472610991, 'Yugoslavia': -0.5108256237659907}\n"
     ]
    }
   ],
   "source": [
    "woe_lables=WOE(data,'native-country','income',1)\n",
    "print(woe_lables)"
   ]
  },
  {
   "cell_type": "code",
   "execution_count": 49,
   "metadata": {
    "ExecuteTime": {
     "end_time": "2020-08-22T13:48:43.950489Z",
     "start_time": "2020-08-22T13:48:43.806338Z"
    }
   },
   "outputs": [
    {
     "data": {
      "text/html": [
       "<div>\n",
       "<style scoped>\n",
       "    .dataframe tbody tr th:only-of-type {\n",
       "        vertical-align: middle;\n",
       "    }\n",
       "\n",
       "    .dataframe tbody tr th {\n",
       "        vertical-align: top;\n",
       "    }\n",
       "\n",
       "    .dataframe thead th {\n",
       "        text-align: right;\n",
       "    }\n",
       "</style>\n",
       "<table border=\"1\" class=\"dataframe\">\n",
       "  <thead>\n",
       "    <tr style=\"text-align: right;\">\n",
       "      <th></th>\n",
       "      <th>age</th>\n",
       "      <th>workclass</th>\n",
       "      <th>fnlwgt</th>\n",
       "      <th>education</th>\n",
       "      <th>marital-status</th>\n",
       "      <th>occupation</th>\n",
       "      <th>relationship</th>\n",
       "      <th>race</th>\n",
       "      <th>sex</th>\n",
       "      <th>capital-gain</th>\n",
       "      <th>capital-loss</th>\n",
       "      <th>hours-per-week</th>\n",
       "      <th>native-country</th>\n",
       "      <th>income</th>\n",
       "      <th>WOE_native-country</th>\n",
       "    </tr>\n",
       "  </thead>\n",
       "  <tbody>\n",
       "    <tr>\n",
       "      <th>0</th>\n",
       "      <td>39</td>\n",
       "      <td>State-gov</td>\n",
       "      <td>77516</td>\n",
       "      <td>Bachelors</td>\n",
       "      <td>Never-married</td>\n",
       "      <td>Adm-clerical</td>\n",
       "      <td>Not-in-family</td>\n",
       "      <td>White</td>\n",
       "      <td>Male</td>\n",
       "      <td>2174</td>\n",
       "      <td>0</td>\n",
       "      <td>40</td>\n",
       "      <td>United-States</td>\n",
       "      <td>0</td>\n",
       "      <td>-1.120952</td>\n",
       "    </tr>\n",
       "    <tr>\n",
       "      <th>1</th>\n",
       "      <td>50</td>\n",
       "      <td>Self-emp-not-inc</td>\n",
       "      <td>83311</td>\n",
       "      <td>Bachelors</td>\n",
       "      <td>Married-civ-spouse</td>\n",
       "      <td>Exec-managerial</td>\n",
       "      <td>Husband</td>\n",
       "      <td>White</td>\n",
       "      <td>Male</td>\n",
       "      <td>0</td>\n",
       "      <td>0</td>\n",
       "      <td>13</td>\n",
       "      <td>United-States</td>\n",
       "      <td>0</td>\n",
       "      <td>-1.120952</td>\n",
       "    </tr>\n",
       "    <tr>\n",
       "      <th>2</th>\n",
       "      <td>38</td>\n",
       "      <td>Private</td>\n",
       "      <td>215646</td>\n",
       "      <td>HS-grad</td>\n",
       "      <td>Divorced</td>\n",
       "      <td>Handlers-cleaners</td>\n",
       "      <td>Not-in-family</td>\n",
       "      <td>White</td>\n",
       "      <td>Male</td>\n",
       "      <td>0</td>\n",
       "      <td>0</td>\n",
       "      <td>40</td>\n",
       "      <td>United-States</td>\n",
       "      <td>0</td>\n",
       "      <td>-1.120952</td>\n",
       "    </tr>\n",
       "    <tr>\n",
       "      <th>3</th>\n",
       "      <td>53</td>\n",
       "      <td>Private</td>\n",
       "      <td>234721</td>\n",
       "      <td>11th</td>\n",
       "      <td>Married-civ-spouse</td>\n",
       "      <td>Handlers-cleaners</td>\n",
       "      <td>Husband</td>\n",
       "      <td>Black</td>\n",
       "      <td>Male</td>\n",
       "      <td>0</td>\n",
       "      <td>0</td>\n",
       "      <td>40</td>\n",
       "      <td>United-States</td>\n",
       "      <td>0</td>\n",
       "      <td>-1.120952</td>\n",
       "    </tr>\n",
       "    <tr>\n",
       "      <th>4</th>\n",
       "      <td>28</td>\n",
       "      <td>Private</td>\n",
       "      <td>338409</td>\n",
       "      <td>Bachelors</td>\n",
       "      <td>Married-civ-spouse</td>\n",
       "      <td>Prof-specialty</td>\n",
       "      <td>Wife</td>\n",
       "      <td>Black</td>\n",
       "      <td>Female</td>\n",
       "      <td>0</td>\n",
       "      <td>0</td>\n",
       "      <td>40</td>\n",
       "      <td>Cuba</td>\n",
       "      <td>0</td>\n",
       "      <td>-1.029619</td>\n",
       "    </tr>\n",
       "  </tbody>\n",
       "</table>\n",
       "</div>"
      ],
      "text/plain": [
       "   age         workclass  fnlwgt  education      marital-status  \\\n",
       "0   39         State-gov   77516  Bachelors       Never-married   \n",
       "1   50  Self-emp-not-inc   83311  Bachelors  Married-civ-spouse   \n",
       "2   38           Private  215646    HS-grad            Divorced   \n",
       "3   53           Private  234721       11th  Married-civ-spouse   \n",
       "4   28           Private  338409  Bachelors  Married-civ-spouse   \n",
       "\n",
       "          occupation   relationship   race     sex  capital-gain  \\\n",
       "0       Adm-clerical  Not-in-family  White    Male          2174   \n",
       "1    Exec-managerial        Husband  White    Male             0   \n",
       "2  Handlers-cleaners  Not-in-family  White    Male             0   \n",
       "3  Handlers-cleaners        Husband  Black    Male             0   \n",
       "4     Prof-specialty           Wife  Black  Female             0   \n",
       "\n",
       "   capital-loss  hours-per-week native-country  income  WOE_native-country  \n",
       "0             0              40  United-States       0           -1.120952  \n",
       "1             0              13  United-States       0           -1.120952  \n",
       "2             0              40  United-States       0           -1.120952  \n",
       "3             0              40  United-States       0           -1.120952  \n",
       "4             0              40           Cuba       0           -1.029619  "
      ]
     },
     "execution_count": 49,
     "metadata": {},
     "output_type": "execute_result"
    }
   ],
   "source": [
    "data.head()"
   ]
  },
  {
   "cell_type": "code",
   "execution_count": 50,
   "metadata": {
    "ExecuteTime": {
     "end_time": "2020-08-22T13:48:44.095466Z",
     "start_time": "2020-08-22T13:48:43.955467Z"
    }
   },
   "outputs": [
    {
     "name": "stdout",
     "output_type": "stream",
     "text": [
      "{'Cambodia': -0.5389965007326869, 'Canada': -0.7431576011346067, 'China': -1.01160091167848, 'Columbia': -3.349904087274605, 'Cuba': -1.0296194171811583, 'Dominican-Republic': -3.5263605246161616, 'Ecuador': -1.791759469228055, 'El-Salvador': -2.3774864011671637, 'England': -0.6931471805599454, 'France': -0.34830669426821587, 'Germany': -0.7484098592349947, 'Greece': -0.9650808960435872, 'Guatemala': -3.012261575505202, 'Haiti': -2.3025850929940455, 'Holand-Netherlands': -11.512925464970229, 'Honduras': -2.4849066497880004, 'Hong': -0.8472978603872036, 'Hungary': -1.203972804325936, 'India': -0.4054651081081643, 'Iran': -0.32850406697203594, 'Ireland': -1.33500106673234, 'Italy': -0.6523251860396901, 'Jamaica': -1.9600947840472698, 'Japan': -0.4595323293784402, 'Laos': -2.0794415416798357, 'Mexico': -2.9169513957008766, 'Nicaragua': -2.772588722239781, 'Outlying-US(Guam-USVI-etc)': -11.512925464970229, 'Peru': -2.6741486494265287, 'Philippines': -0.8091070616548137, 'Poland': -1.3862943611198906, 'Portugal': -2.1102132003465894, 'Puerto-Rico': -2.1400661634962708, 'Scotland': -1.0986122886681098, 'South': -1.3862943611198906, 'Taiwan': -0.4382549309311555, 'Thailand': -1.6094379124341005, 'Trinadad&Tobago': -2.1400661634962708, 'United-States': -1.1209518828793343, 'Unknown': -1.096326573387254, 'Vietnam': -2.517696472610991, 'Yugoslavia': -0.5108256237659907}\n"
     ]
    }
   ],
   "source": [
    "woe_lables=WOE(data_val,'native-country','income',0,woe_lables)\n",
    "print(woe_lables)"
   ]
  },
  {
   "cell_type": "code",
   "execution_count": 51,
   "metadata": {
    "ExecuteTime": {
     "end_time": "2020-08-22T13:48:44.224661Z",
     "start_time": "2020-08-22T13:48:44.101466Z"
    }
   },
   "outputs": [],
   "source": [
    "data.drop(\"native-country\",axis=1,inplace=True)\n",
    "data_val.drop(\"native-country\",axis=1,inplace=True)"
   ]
  },
  {
   "cell_type": "markdown",
   "metadata": {},
   "source": [
    "#### Encoding rest of Categorical columns"
   ]
  },
  {
   "cell_type": "code",
   "execution_count": 52,
   "metadata": {
    "ExecuteTime": {
     "end_time": "2020-08-22T13:48:44.402595Z",
     "start_time": "2020-08-22T13:48:44.228617Z"
    }
   },
   "outputs": [],
   "source": [
    "# Now we will encode categorical features using one-hot encoding, i.e. each category will now be represented by a separate column\n",
    "# containing only 0 and 1, depending on whether this category is relevant in a sample (row in our data) \n",
    "data=pd.get_dummies(data, drop_first = True)"
   ]
  },
  {
   "cell_type": "code",
   "execution_count": 53,
   "metadata": {
    "ExecuteTime": {
     "end_time": "2020-08-22T13:48:44.517594Z",
     "start_time": "2020-08-22T13:48:44.407593Z"
    }
   },
   "outputs": [],
   "source": [
    "# containing only 0 and 1, depending on whether this category is relevant in a sample (row in our data) \n",
    "data_val=pd.get_dummies(data_val, drop_first = True)"
   ]
  },
  {
   "cell_type": "code",
   "execution_count": 54,
   "metadata": {
    "ExecuteTime": {
     "end_time": "2020-08-22T13:48:44.624617Z",
     "start_time": "2020-08-22T13:48:44.524597Z"
    }
   },
   "outputs": [
    {
     "data": {
      "text/html": [
       "<div>\n",
       "<style scoped>\n",
       "    .dataframe tbody tr th:only-of-type {\n",
       "        vertical-align: middle;\n",
       "    }\n",
       "\n",
       "    .dataframe tbody tr th {\n",
       "        vertical-align: top;\n",
       "    }\n",
       "\n",
       "    .dataframe thead th {\n",
       "        text-align: right;\n",
       "    }\n",
       "</style>\n",
       "<table border=\"1\" class=\"dataframe\">\n",
       "  <thead>\n",
       "    <tr style=\"text-align: right;\">\n",
       "      <th></th>\n",
       "      <th>age</th>\n",
       "      <th>fnlwgt</th>\n",
       "      <th>capital-gain</th>\n",
       "      <th>capital-loss</th>\n",
       "      <th>hours-per-week</th>\n",
       "      <th>income</th>\n",
       "      <th>WOE_native-country</th>\n",
       "      <th>workclass_Local-gov</th>\n",
       "      <th>workclass_Never-worked</th>\n",
       "      <th>workclass_Private</th>\n",
       "      <th>...</th>\n",
       "      <th>relationship_Not-in-family</th>\n",
       "      <th>relationship_Other-relative</th>\n",
       "      <th>relationship_Own-child</th>\n",
       "      <th>relationship_Unmarried</th>\n",
       "      <th>relationship_Wife</th>\n",
       "      <th>race_Asian-Pac-Islander</th>\n",
       "      <th>race_Black</th>\n",
       "      <th>race_Other</th>\n",
       "      <th>race_White</th>\n",
       "      <th>sex_Male</th>\n",
       "    </tr>\n",
       "  </thead>\n",
       "  <tbody>\n",
       "    <tr>\n",
       "      <th>0</th>\n",
       "      <td>39</td>\n",
       "      <td>77516</td>\n",
       "      <td>2174</td>\n",
       "      <td>0</td>\n",
       "      <td>40</td>\n",
       "      <td>0</td>\n",
       "      <td>-1.120952</td>\n",
       "      <td>0</td>\n",
       "      <td>0</td>\n",
       "      <td>0</td>\n",
       "      <td>...</td>\n",
       "      <td>1</td>\n",
       "      <td>0</td>\n",
       "      <td>0</td>\n",
       "      <td>0</td>\n",
       "      <td>0</td>\n",
       "      <td>0</td>\n",
       "      <td>0</td>\n",
       "      <td>0</td>\n",
       "      <td>1</td>\n",
       "      <td>1</td>\n",
       "    </tr>\n",
       "    <tr>\n",
       "      <th>1</th>\n",
       "      <td>50</td>\n",
       "      <td>83311</td>\n",
       "      <td>0</td>\n",
       "      <td>0</td>\n",
       "      <td>13</td>\n",
       "      <td>0</td>\n",
       "      <td>-1.120952</td>\n",
       "      <td>0</td>\n",
       "      <td>0</td>\n",
       "      <td>0</td>\n",
       "      <td>...</td>\n",
       "      <td>0</td>\n",
       "      <td>0</td>\n",
       "      <td>0</td>\n",
       "      <td>0</td>\n",
       "      <td>0</td>\n",
       "      <td>0</td>\n",
       "      <td>0</td>\n",
       "      <td>0</td>\n",
       "      <td>1</td>\n",
       "      <td>1</td>\n",
       "    </tr>\n",
       "    <tr>\n",
       "      <th>2</th>\n",
       "      <td>38</td>\n",
       "      <td>215646</td>\n",
       "      <td>0</td>\n",
       "      <td>0</td>\n",
       "      <td>40</td>\n",
       "      <td>0</td>\n",
       "      <td>-1.120952</td>\n",
       "      <td>0</td>\n",
       "      <td>0</td>\n",
       "      <td>1</td>\n",
       "      <td>...</td>\n",
       "      <td>1</td>\n",
       "      <td>0</td>\n",
       "      <td>0</td>\n",
       "      <td>0</td>\n",
       "      <td>0</td>\n",
       "      <td>0</td>\n",
       "      <td>0</td>\n",
       "      <td>0</td>\n",
       "      <td>1</td>\n",
       "      <td>1</td>\n",
       "    </tr>\n",
       "    <tr>\n",
       "      <th>3</th>\n",
       "      <td>53</td>\n",
       "      <td>234721</td>\n",
       "      <td>0</td>\n",
       "      <td>0</td>\n",
       "      <td>40</td>\n",
       "      <td>0</td>\n",
       "      <td>-1.120952</td>\n",
       "      <td>0</td>\n",
       "      <td>0</td>\n",
       "      <td>1</td>\n",
       "      <td>...</td>\n",
       "      <td>0</td>\n",
       "      <td>0</td>\n",
       "      <td>0</td>\n",
       "      <td>0</td>\n",
       "      <td>0</td>\n",
       "      <td>0</td>\n",
       "      <td>1</td>\n",
       "      <td>0</td>\n",
       "      <td>0</td>\n",
       "      <td>1</td>\n",
       "    </tr>\n",
       "    <tr>\n",
       "      <th>4</th>\n",
       "      <td>28</td>\n",
       "      <td>338409</td>\n",
       "      <td>0</td>\n",
       "      <td>0</td>\n",
       "      <td>40</td>\n",
       "      <td>0</td>\n",
       "      <td>-1.029619</td>\n",
       "      <td>0</td>\n",
       "      <td>0</td>\n",
       "      <td>1</td>\n",
       "      <td>...</td>\n",
       "      <td>0</td>\n",
       "      <td>0</td>\n",
       "      <td>0</td>\n",
       "      <td>0</td>\n",
       "      <td>1</td>\n",
       "      <td>0</td>\n",
       "      <td>1</td>\n",
       "      <td>0</td>\n",
       "      <td>0</td>\n",
       "      <td>0</td>\n",
       "    </tr>\n",
       "  </tbody>\n",
       "</table>\n",
       "<p>5 rows × 60 columns</p>\n",
       "</div>"
      ],
      "text/plain": [
       "   age  fnlwgt  capital-gain  capital-loss  hours-per-week  income  \\\n",
       "0   39   77516          2174             0              40       0   \n",
       "1   50   83311             0             0              13       0   \n",
       "2   38  215646             0             0              40       0   \n",
       "3   53  234721             0             0              40       0   \n",
       "4   28  338409             0             0              40       0   \n",
       "\n",
       "   WOE_native-country  workclass_Local-gov  workclass_Never-worked  \\\n",
       "0           -1.120952                    0                       0   \n",
       "1           -1.120952                    0                       0   \n",
       "2           -1.120952                    0                       0   \n",
       "3           -1.120952                    0                       0   \n",
       "4           -1.029619                    0                       0   \n",
       "\n",
       "   workclass_Private  ...  relationship_Not-in-family  \\\n",
       "0                  0  ...                           1   \n",
       "1                  0  ...                           0   \n",
       "2                  1  ...                           1   \n",
       "3                  1  ...                           0   \n",
       "4                  1  ...                           0   \n",
       "\n",
       "   relationship_Other-relative  relationship_Own-child  \\\n",
       "0                            0                       0   \n",
       "1                            0                       0   \n",
       "2                            0                       0   \n",
       "3                            0                       0   \n",
       "4                            0                       0   \n",
       "\n",
       "   relationship_Unmarried  relationship_Wife  race_Asian-Pac-Islander  \\\n",
       "0                       0                  0                        0   \n",
       "1                       0                  0                        0   \n",
       "2                       0                  0                        0   \n",
       "3                       0                  0                        0   \n",
       "4                       0                  1                        0   \n",
       "\n",
       "   race_Black  race_Other  race_White  sex_Male  \n",
       "0           0           0           1         1  \n",
       "1           0           0           1         1  \n",
       "2           0           0           1         1  \n",
       "3           1           0           0         1  \n",
       "4           1           0           0         0  \n",
       "\n",
       "[5 rows x 60 columns]"
      ]
     },
     "execution_count": 54,
     "metadata": {},
     "output_type": "execute_result"
    }
   ],
   "source": [
    "data.head()"
   ]
  },
  {
   "cell_type": "code",
   "execution_count": 55,
   "metadata": {
    "ExecuteTime": {
     "end_time": "2020-08-22T13:48:44.777734Z",
     "start_time": "2020-08-22T13:48:44.629599Z"
    }
   },
   "outputs": [
    {
     "data": {
      "text/html": [
       "<div>\n",
       "<style scoped>\n",
       "    .dataframe tbody tr th:only-of-type {\n",
       "        vertical-align: middle;\n",
       "    }\n",
       "\n",
       "    .dataframe tbody tr th {\n",
       "        vertical-align: top;\n",
       "    }\n",
       "\n",
       "    .dataframe thead th {\n",
       "        text-align: right;\n",
       "    }\n",
       "</style>\n",
       "<table border=\"1\" class=\"dataframe\">\n",
       "  <thead>\n",
       "    <tr style=\"text-align: right;\">\n",
       "      <th></th>\n",
       "      <th>age</th>\n",
       "      <th>fnlwgt</th>\n",
       "      <th>capital-gain</th>\n",
       "      <th>capital-loss</th>\n",
       "      <th>hours-per-week</th>\n",
       "      <th>income</th>\n",
       "      <th>WOE_native-country</th>\n",
       "      <th>workclass_Local-gov</th>\n",
       "      <th>workclass_Never-worked</th>\n",
       "      <th>workclass_Private</th>\n",
       "      <th>...</th>\n",
       "      <th>relationship_Not-in-family</th>\n",
       "      <th>relationship_Other-relative</th>\n",
       "      <th>relationship_Own-child</th>\n",
       "      <th>relationship_Unmarried</th>\n",
       "      <th>relationship_Wife</th>\n",
       "      <th>race_Asian-Pac-Islander</th>\n",
       "      <th>race_Black</th>\n",
       "      <th>race_Other</th>\n",
       "      <th>race_White</th>\n",
       "      <th>sex_Male</th>\n",
       "    </tr>\n",
       "  </thead>\n",
       "  <tbody>\n",
       "    <tr>\n",
       "      <th>0</th>\n",
       "      <td>25</td>\n",
       "      <td>226802</td>\n",
       "      <td>0</td>\n",
       "      <td>0</td>\n",
       "      <td>40</td>\n",
       "      <td>0</td>\n",
       "      <td>-1.120952</td>\n",
       "      <td>0</td>\n",
       "      <td>0</td>\n",
       "      <td>1</td>\n",
       "      <td>...</td>\n",
       "      <td>0</td>\n",
       "      <td>0</td>\n",
       "      <td>1</td>\n",
       "      <td>0</td>\n",
       "      <td>0</td>\n",
       "      <td>0</td>\n",
       "      <td>1</td>\n",
       "      <td>0</td>\n",
       "      <td>0</td>\n",
       "      <td>1</td>\n",
       "    </tr>\n",
       "    <tr>\n",
       "      <th>1</th>\n",
       "      <td>38</td>\n",
       "      <td>89814</td>\n",
       "      <td>0</td>\n",
       "      <td>0</td>\n",
       "      <td>50</td>\n",
       "      <td>0</td>\n",
       "      <td>-1.120952</td>\n",
       "      <td>0</td>\n",
       "      <td>0</td>\n",
       "      <td>1</td>\n",
       "      <td>...</td>\n",
       "      <td>0</td>\n",
       "      <td>0</td>\n",
       "      <td>0</td>\n",
       "      <td>0</td>\n",
       "      <td>0</td>\n",
       "      <td>0</td>\n",
       "      <td>0</td>\n",
       "      <td>0</td>\n",
       "      <td>1</td>\n",
       "      <td>1</td>\n",
       "    </tr>\n",
       "    <tr>\n",
       "      <th>2</th>\n",
       "      <td>28</td>\n",
       "      <td>336951</td>\n",
       "      <td>0</td>\n",
       "      <td>0</td>\n",
       "      <td>40</td>\n",
       "      <td>1</td>\n",
       "      <td>-1.120952</td>\n",
       "      <td>1</td>\n",
       "      <td>0</td>\n",
       "      <td>0</td>\n",
       "      <td>...</td>\n",
       "      <td>0</td>\n",
       "      <td>0</td>\n",
       "      <td>0</td>\n",
       "      <td>0</td>\n",
       "      <td>0</td>\n",
       "      <td>0</td>\n",
       "      <td>0</td>\n",
       "      <td>0</td>\n",
       "      <td>1</td>\n",
       "      <td>1</td>\n",
       "    </tr>\n",
       "    <tr>\n",
       "      <th>3</th>\n",
       "      <td>44</td>\n",
       "      <td>160323</td>\n",
       "      <td>7688</td>\n",
       "      <td>0</td>\n",
       "      <td>40</td>\n",
       "      <td>1</td>\n",
       "      <td>-1.120952</td>\n",
       "      <td>0</td>\n",
       "      <td>0</td>\n",
       "      <td>1</td>\n",
       "      <td>...</td>\n",
       "      <td>0</td>\n",
       "      <td>0</td>\n",
       "      <td>0</td>\n",
       "      <td>0</td>\n",
       "      <td>0</td>\n",
       "      <td>0</td>\n",
       "      <td>1</td>\n",
       "      <td>0</td>\n",
       "      <td>0</td>\n",
       "      <td>1</td>\n",
       "    </tr>\n",
       "    <tr>\n",
       "      <th>4</th>\n",
       "      <td>18</td>\n",
       "      <td>103497</td>\n",
       "      <td>0</td>\n",
       "      <td>0</td>\n",
       "      <td>30</td>\n",
       "      <td>0</td>\n",
       "      <td>-1.120952</td>\n",
       "      <td>0</td>\n",
       "      <td>0</td>\n",
       "      <td>0</td>\n",
       "      <td>...</td>\n",
       "      <td>0</td>\n",
       "      <td>0</td>\n",
       "      <td>1</td>\n",
       "      <td>0</td>\n",
       "      <td>0</td>\n",
       "      <td>0</td>\n",
       "      <td>0</td>\n",
       "      <td>0</td>\n",
       "      <td>1</td>\n",
       "      <td>0</td>\n",
       "    </tr>\n",
       "  </tbody>\n",
       "</table>\n",
       "<p>5 rows × 60 columns</p>\n",
       "</div>"
      ],
      "text/plain": [
       "   age  fnlwgt  capital-gain  capital-loss  hours-per-week  income  \\\n",
       "0   25  226802             0             0              40       0   \n",
       "1   38   89814             0             0              50       0   \n",
       "2   28  336951             0             0              40       1   \n",
       "3   44  160323          7688             0              40       1   \n",
       "4   18  103497             0             0              30       0   \n",
       "\n",
       "   WOE_native-country  workclass_Local-gov  workclass_Never-worked  \\\n",
       "0           -1.120952                    0                       0   \n",
       "1           -1.120952                    0                       0   \n",
       "2           -1.120952                    1                       0   \n",
       "3           -1.120952                    0                       0   \n",
       "4           -1.120952                    0                       0   \n",
       "\n",
       "   workclass_Private  ...  relationship_Not-in-family  \\\n",
       "0                  1  ...                           0   \n",
       "1                  1  ...                           0   \n",
       "2                  0  ...                           0   \n",
       "3                  1  ...                           0   \n",
       "4                  0  ...                           0   \n",
       "\n",
       "   relationship_Other-relative  relationship_Own-child  \\\n",
       "0                            0                       1   \n",
       "1                            0                       0   \n",
       "2                            0                       0   \n",
       "3                            0                       0   \n",
       "4                            0                       1   \n",
       "\n",
       "   relationship_Unmarried  relationship_Wife  race_Asian-Pac-Islander  \\\n",
       "0                       0                  0                        0   \n",
       "1                       0                  0                        0   \n",
       "2                       0                  0                        0   \n",
       "3                       0                  0                        0   \n",
       "4                       0                  0                        0   \n",
       "\n",
       "   race_Black  race_Other  race_White  sex_Male  \n",
       "0           1           0           0         1  \n",
       "1           0           0           1         1  \n",
       "2           0           0           1         1  \n",
       "3           1           0           0         1  \n",
       "4           0           0           1         0  \n",
       "\n",
       "[5 rows x 60 columns]"
      ]
     },
     "execution_count": 55,
     "metadata": {},
     "output_type": "execute_result"
    }
   ],
   "source": [
    "data_val.head()"
   ]
  },
  {
   "cell_type": "markdown",
   "metadata": {},
   "source": [
    "## Splitting the Data"
   ]
  },
  {
   "cell_type": "code",
   "execution_count": 72,
   "metadata": {
    "ExecuteTime": {
     "end_time": "2020-08-22T14:19:27.663430Z",
     "start_time": "2020-08-22T14:19:27.387295Z"
    }
   },
   "outputs": [
    {
     "name": "stdout",
     "output_type": "stream",
     "text": [
      "[[3.90000e+01 7.75160e+04 2.17400e+03 ... 0.00000e+00 1.00000e+00\n",
      "  1.00000e+00]\n",
      " [5.00000e+01 8.33110e+04 0.00000e+00 ... 0.00000e+00 1.00000e+00\n",
      "  1.00000e+00]\n",
      " [3.80000e+01 2.15646e+05 0.00000e+00 ... 0.00000e+00 1.00000e+00\n",
      "  1.00000e+00]\n",
      " ...\n",
      " [5.80000e+01 1.51910e+05 0.00000e+00 ... 0.00000e+00 1.00000e+00\n",
      "  0.00000e+00]\n",
      " [2.20000e+01 2.01490e+05 0.00000e+00 ... 0.00000e+00 1.00000e+00\n",
      "  1.00000e+00]\n",
      " [5.20000e+01 2.87927e+05 1.50240e+04 ... 0.00000e+00 1.00000e+00\n",
      "  0.00000e+00]]\n"
     ]
    }
   ],
   "source": [
    "X=data.drop('income',axis=1).values\n",
    "print(X)"
   ]
  },
  {
   "cell_type": "code",
   "execution_count": null,
   "metadata": {},
   "outputs": [],
   "source": [
    "Y=data['income'].values\n",
    "Y"
   ]
  },
  {
   "cell_type": "code",
   "execution_count": 75,
   "metadata": {},
   "outputs": [],
   "source": [
    "#test data split & standardization\n",
    "\n",
    "y_val = data_val['income'].values"
   ]
  },
  {
   "cell_type": "code",
   "execution_count": 76,
   "metadata": {},
   "outputs": [],
   "source": [
    "X_val = data_val.drop('income',axis=1).values"
   ]
  },
  {
   "cell_type": "code",
   "execution_count": 58,
   "metadata": {
    "ExecuteTime": {
     "end_time": "2020-08-22T14:29:24.691132Z",
     "start_time": "2020-08-22T14:29:18.016986Z"
    }
   },
   "outputs": [],
   "source": [
    "from sklearn.model_selection import train_test_split \n",
    "X_train,X_test,y_train,y_test=train_test_split(X,Y,test_size=0.25,random_state=0)"
   ]
  },
  {
   "cell_type": "code",
   "execution_count": 59,
   "metadata": {},
   "outputs": [],
   "source": [
    "from sklearn.preprocessing import StandardScaler\n",
    "sc=StandardScaler()\n",
    "\n",
    "X_train_sc=sc.fit_transform(X_train)\n",
    "X_test_sc=sc.transform(X_test)"
   ]
  },
  {
   "cell_type": "code",
   "execution_count": 60,
   "metadata": {
    "ExecuteTime": {
     "end_time": "2020-08-22T14:30:30.664120Z",
     "start_time": "2020-08-22T14:30:30.656119Z"
    }
   },
   "outputs": [
    {
     "name": "stdout",
     "output_type": "stream",
     "text": [
      "Train: (24420, 59) Test:= (24420,)\n"
     ]
    }
   ],
   "source": [
    "print(\"Train:\",X_train.shape,\"Test:=\",y_train.shape)"
   ]
  },
  {
   "cell_type": "code",
   "execution_count": null,
   "metadata": {},
   "outputs": [],
   "source": []
  },
  {
   "cell_type": "code",
   "execution_count": null,
   "metadata": {},
   "outputs": [],
   "source": []
  },
  {
   "cell_type": "code",
   "execution_count": 78,
   "metadata": {},
   "outputs": [],
   "source": [
    "from sklearn.preprocessing import StandardScaler\n",
    "sc=StandardScaler()\n",
    "\n",
    "X_sc=sc.fit_transform(X)\n",
    "X_test_sc = sc.fit_transform(X_val)"
   ]
  },
  {
   "cell_type": "code",
   "execution_count": null,
   "metadata": {},
   "outputs": [],
   "source": []
  },
  {
   "cell_type": "code",
   "execution_count": null,
   "metadata": {},
   "outputs": [],
   "source": []
  },
  {
   "cell_type": "code",
   "execution_count": null,
   "metadata": {},
   "outputs": [],
   "source": []
  },
  {
   "cell_type": "markdown",
   "metadata": {},
   "source": [
    "Convolutional Neural Network"
   ]
  },
  {
   "cell_type": "code",
   "execution_count": 74,
   "metadata": {},
   "outputs": [
    {
     "data": {
      "text/html": [
       "<div>\n",
       "<style scoped>\n",
       "    .dataframe tbody tr th:only-of-type {\n",
       "        vertical-align: middle;\n",
       "    }\n",
       "\n",
       "    .dataframe tbody tr th {\n",
       "        vertical-align: top;\n",
       "    }\n",
       "\n",
       "    .dataframe thead th {\n",
       "        text-align: right;\n",
       "    }\n",
       "</style>\n",
       "<table border=\"1\" class=\"dataframe\">\n",
       "  <thead>\n",
       "    <tr style=\"text-align: right;\">\n",
       "      <th></th>\n",
       "      <th>age</th>\n",
       "      <th>fnlwgt</th>\n",
       "      <th>capital-gain</th>\n",
       "      <th>capital-loss</th>\n",
       "      <th>hours-per-week</th>\n",
       "      <th>income</th>\n",
       "      <th>WOE_native-country</th>\n",
       "      <th>workclass_Local-gov</th>\n",
       "      <th>workclass_Never-worked</th>\n",
       "      <th>workclass_Private</th>\n",
       "      <th>...</th>\n",
       "      <th>relationship_Not-in-family</th>\n",
       "      <th>relationship_Other-relative</th>\n",
       "      <th>relationship_Own-child</th>\n",
       "      <th>relationship_Unmarried</th>\n",
       "      <th>relationship_Wife</th>\n",
       "      <th>race_Asian-Pac-Islander</th>\n",
       "      <th>race_Black</th>\n",
       "      <th>race_Other</th>\n",
       "      <th>race_White</th>\n",
       "      <th>sex_Male</th>\n",
       "    </tr>\n",
       "  </thead>\n",
       "  <tbody>\n",
       "    <tr>\n",
       "      <th>0</th>\n",
       "      <td>39</td>\n",
       "      <td>77516</td>\n",
       "      <td>2174</td>\n",
       "      <td>0</td>\n",
       "      <td>40</td>\n",
       "      <td>0</td>\n",
       "      <td>-1.120952</td>\n",
       "      <td>0</td>\n",
       "      <td>0</td>\n",
       "      <td>0</td>\n",
       "      <td>...</td>\n",
       "      <td>1</td>\n",
       "      <td>0</td>\n",
       "      <td>0</td>\n",
       "      <td>0</td>\n",
       "      <td>0</td>\n",
       "      <td>0</td>\n",
       "      <td>0</td>\n",
       "      <td>0</td>\n",
       "      <td>1</td>\n",
       "      <td>1</td>\n",
       "    </tr>\n",
       "    <tr>\n",
       "      <th>1</th>\n",
       "      <td>50</td>\n",
       "      <td>83311</td>\n",
       "      <td>0</td>\n",
       "      <td>0</td>\n",
       "      <td>13</td>\n",
       "      <td>0</td>\n",
       "      <td>-1.120952</td>\n",
       "      <td>0</td>\n",
       "      <td>0</td>\n",
       "      <td>0</td>\n",
       "      <td>...</td>\n",
       "      <td>0</td>\n",
       "      <td>0</td>\n",
       "      <td>0</td>\n",
       "      <td>0</td>\n",
       "      <td>0</td>\n",
       "      <td>0</td>\n",
       "      <td>0</td>\n",
       "      <td>0</td>\n",
       "      <td>1</td>\n",
       "      <td>1</td>\n",
       "    </tr>\n",
       "    <tr>\n",
       "      <th>2</th>\n",
       "      <td>38</td>\n",
       "      <td>215646</td>\n",
       "      <td>0</td>\n",
       "      <td>0</td>\n",
       "      <td>40</td>\n",
       "      <td>0</td>\n",
       "      <td>-1.120952</td>\n",
       "      <td>0</td>\n",
       "      <td>0</td>\n",
       "      <td>1</td>\n",
       "      <td>...</td>\n",
       "      <td>1</td>\n",
       "      <td>0</td>\n",
       "      <td>0</td>\n",
       "      <td>0</td>\n",
       "      <td>0</td>\n",
       "      <td>0</td>\n",
       "      <td>0</td>\n",
       "      <td>0</td>\n",
       "      <td>1</td>\n",
       "      <td>1</td>\n",
       "    </tr>\n",
       "    <tr>\n",
       "      <th>3</th>\n",
       "      <td>53</td>\n",
       "      <td>234721</td>\n",
       "      <td>0</td>\n",
       "      <td>0</td>\n",
       "      <td>40</td>\n",
       "      <td>0</td>\n",
       "      <td>-1.120952</td>\n",
       "      <td>0</td>\n",
       "      <td>0</td>\n",
       "      <td>1</td>\n",
       "      <td>...</td>\n",
       "      <td>0</td>\n",
       "      <td>0</td>\n",
       "      <td>0</td>\n",
       "      <td>0</td>\n",
       "      <td>0</td>\n",
       "      <td>0</td>\n",
       "      <td>1</td>\n",
       "      <td>0</td>\n",
       "      <td>0</td>\n",
       "      <td>1</td>\n",
       "    </tr>\n",
       "    <tr>\n",
       "      <th>4</th>\n",
       "      <td>28</td>\n",
       "      <td>338409</td>\n",
       "      <td>0</td>\n",
       "      <td>0</td>\n",
       "      <td>40</td>\n",
       "      <td>0</td>\n",
       "      <td>-1.029619</td>\n",
       "      <td>0</td>\n",
       "      <td>0</td>\n",
       "      <td>1</td>\n",
       "      <td>...</td>\n",
       "      <td>0</td>\n",
       "      <td>0</td>\n",
       "      <td>0</td>\n",
       "      <td>0</td>\n",
       "      <td>1</td>\n",
       "      <td>0</td>\n",
       "      <td>1</td>\n",
       "      <td>0</td>\n",
       "      <td>0</td>\n",
       "      <td>0</td>\n",
       "    </tr>\n",
       "  </tbody>\n",
       "</table>\n",
       "<p>5 rows × 60 columns</p>\n",
       "</div>"
      ],
      "text/plain": [
       "   age  fnlwgt  capital-gain  capital-loss  hours-per-week  income  \\\n",
       "0   39   77516          2174             0              40       0   \n",
       "1   50   83311             0             0              13       0   \n",
       "2   38  215646             0             0              40       0   \n",
       "3   53  234721             0             0              40       0   \n",
       "4   28  338409             0             0              40       0   \n",
       "\n",
       "   WOE_native-country  workclass_Local-gov  workclass_Never-worked  \\\n",
       "0           -1.120952                    0                       0   \n",
       "1           -1.120952                    0                       0   \n",
       "2           -1.120952                    0                       0   \n",
       "3           -1.120952                    0                       0   \n",
       "4           -1.029619                    0                       0   \n",
       "\n",
       "   workclass_Private  ...  relationship_Not-in-family  \\\n",
       "0                  0  ...                           1   \n",
       "1                  0  ...                           0   \n",
       "2                  1  ...                           1   \n",
       "3                  1  ...                           0   \n",
       "4                  1  ...                           0   \n",
       "\n",
       "   relationship_Other-relative  relationship_Own-child  \\\n",
       "0                            0                       0   \n",
       "1                            0                       0   \n",
       "2                            0                       0   \n",
       "3                            0                       0   \n",
       "4                            0                       0   \n",
       "\n",
       "   relationship_Unmarried  relationship_Wife  race_Asian-Pac-Islander  \\\n",
       "0                       0                  0                        0   \n",
       "1                       0                  0                        0   \n",
       "2                       0                  0                        0   \n",
       "3                       0                  0                        0   \n",
       "4                       0                  1                        0   \n",
       "\n",
       "   race_Black  race_Other  race_White  sex_Male  \n",
       "0           0           0           1         1  \n",
       "1           0           0           1         1  \n",
       "2           0           0           1         1  \n",
       "3           1           0           0         1  \n",
       "4           1           0           0         0  \n",
       "\n",
       "[5 rows x 60 columns]"
      ]
     },
     "execution_count": 74,
     "metadata": {},
     "output_type": "execute_result"
    }
   ],
   "source": [
    "from keras.models import Sequential\n",
    "from sklearn.model_selection import GridSearchCV\n",
    "from keras.layers import Dense\n",
    "from keras.layers import Dropout\n",
    "from keras.wrappers.scikit_learn import KerasClassifier\n",
    "from keras.constraints import maxnorm\n",
    "data.head()"
   ]
  },
  {
   "cell_type": "code",
   "execution_count": 79,
   "metadata": {},
   "outputs": [
    {
     "name": "stdout",
     "output_type": "stream",
     "text": [
      "Epoch 1/150\n",
      "32561/32561 [==============================] - 3s 84us/step - loss: 0.3526 - accuracy: 0.8341\n",
      "Epoch 2/150\n",
      "32561/32561 [==============================] - 3s 82us/step - loss: 0.3172 - accuracy: 0.8530\n",
      "Epoch 3/150\n",
      "32561/32561 [==============================] - 3s 83us/step - loss: 0.3105 - accuracy: 0.8554\n",
      "Epoch 4/150\n",
      "32561/32561 [==============================] - 3s 84us/step - loss: 0.3083 - accuracy: 0.8553\n",
      "Epoch 5/150\n",
      "32561/32561 [==============================] - 3s 87us/step - loss: 0.3060 - accuracy: 0.8583\n",
      "Epoch 6/150\n",
      "32561/32561 [==============================] - 3s 84us/step - loss: 0.3042 - accuracy: 0.8590\n",
      "Epoch 7/150\n",
      "32561/32561 [==============================] - 3s 84us/step - loss: 0.3037 - accuracy: 0.8577\n",
      "Epoch 8/150\n",
      "32561/32561 [==============================] - 3s 87us/step - loss: 0.3025 - accuracy: 0.8601\n",
      "Epoch 9/150\n",
      "32561/32561 [==============================] - 3s 81us/step - loss: 0.3018 - accuracy: 0.8598\n",
      "Epoch 10/150\n",
      "32561/32561 [==============================] - 3s 79us/step - loss: 0.3009 - accuracy: 0.8603\n",
      "Epoch 11/150\n",
      "32561/32561 [==============================] - 3s 80us/step - loss: 0.3003 - accuracy: 0.8602\n",
      "Epoch 12/150\n",
      "32561/32561 [==============================] - 3s 80us/step - loss: 0.2999 - accuracy: 0.8612\n",
      "Epoch 13/150\n",
      "32561/32561 [==============================] - 3s 81us/step - loss: 0.2988 - accuracy: 0.8616\n",
      "Epoch 14/150\n",
      "32561/32561 [==============================] - 3s 81us/step - loss: 0.2987 - accuracy: 0.8620\n",
      "Epoch 15/150\n",
      "32561/32561 [==============================] - 3s 106us/step - loss: 0.2986 - accuracy: 0.8618\n",
      "Epoch 16/150\n",
      "32561/32561 [==============================] - 3s 100us/step - loss: 0.2982 - accuracy: 0.8619\n",
      "Epoch 17/150\n",
      "32561/32561 [==============================] - 3s 91us/step - loss: 0.2976 - accuracy: 0.8629\n",
      "Epoch 18/150\n",
      "32561/32561 [==============================] - 3s 90us/step - loss: 0.2973 - accuracy: 0.8627\n",
      "Epoch 19/150\n",
      "32561/32561 [==============================] - 3s 89us/step - loss: 0.2966 - accuracy: 0.8632\n",
      "Epoch 20/150\n",
      "32561/32561 [==============================] - 3s 90us/step - loss: 0.2967 - accuracy: 0.8643\n",
      "Epoch 21/150\n",
      "32561/32561 [==============================] - 3s 93us/step - loss: 0.2961 - accuracy: 0.8632\n",
      "Epoch 22/150\n",
      "32561/32561 [==============================] - 4s 112us/step - loss: 0.2964 - accuracy: 0.8629\n",
      "Epoch 23/150\n",
      "32561/32561 [==============================] - 3s 93us/step - loss: 0.2958 - accuracy: 0.8640\n",
      "Epoch 24/150\n",
      "32561/32561 [==============================] - 3s 91us/step - loss: 0.2960 - accuracy: 0.8637\n",
      "Epoch 25/150\n",
      "32561/32561 [==============================] - 3s 92us/step - loss: 0.2953 - accuracy: 0.8631\n",
      "Epoch 26/150\n",
      "32561/32561 [==============================] - 3s 90us/step - loss: 0.2950 - accuracy: 0.8631\n",
      "Epoch 27/150\n",
      "32561/32561 [==============================] - 3s 91us/step - loss: 0.2946 - accuracy: 0.8638\n",
      "Epoch 28/150\n",
      "32561/32561 [==============================] - 3s 89us/step - loss: 0.2945 - accuracy: 0.8633\n",
      "Epoch 29/150\n",
      "32561/32561 [==============================] - 3s 90us/step - loss: 0.2942 - accuracy: 0.8642\n",
      "Epoch 30/150\n",
      "32561/32561 [==============================] - 3s 86us/step - loss: 0.2945 - accuracy: 0.8637\n",
      "Epoch 31/150\n",
      "32561/32561 [==============================] - 3s 91us/step - loss: 0.2938 - accuracy: 0.8642\n",
      "Epoch 32/150\n",
      "32561/32561 [==============================] - 3s 105us/step - loss: 0.2936 - accuracy: 0.8636\n",
      "Epoch 33/150\n",
      "32561/32561 [==============================] - 3s 91us/step - loss: 0.2930 - accuracy: 0.8641\n",
      "Epoch 34/150\n",
      "32561/32561 [==============================] - 3s 92us/step - loss: 0.2932 - accuracy: 0.8640\n",
      "Epoch 35/150\n",
      "32561/32561 [==============================] - 3s 90us/step - loss: 0.2932 - accuracy: 0.8641\n",
      "Epoch 36/150\n",
      "32561/32561 [==============================] - 3s 93us/step - loss: 0.2931 - accuracy: 0.8641\n",
      "Epoch 37/150\n",
      "32561/32561 [==============================] - 3s 94us/step - loss: 0.2927 - accuracy: 0.8646\n",
      "Epoch 38/150\n",
      "32561/32561 [==============================] - 3s 91us/step - loss: 0.2925 - accuracy: 0.8635\n",
      "Epoch 39/150\n",
      "32561/32561 [==============================] - 3s 90us/step - loss: 0.2926 - accuracy: 0.8654\n",
      "Epoch 40/150\n",
      "32561/32561 [==============================] - 3s 91us/step - loss: 0.2921 - accuracy: 0.8647\n",
      "Epoch 41/150\n",
      "32561/32561 [==============================] - 3s 90us/step - loss: 0.2923 - accuracy: 0.8652\n",
      "Epoch 42/150\n",
      "32561/32561 [==============================] - 3s 92us/step - loss: 0.2918 - accuracy: 0.8645\n",
      "Epoch 43/150\n",
      "32561/32561 [==============================] - 3s 87us/step - loss: 0.2915 - accuracy: 0.8651\n",
      "Epoch 44/150\n",
      "32561/32561 [==============================] - 3s 85us/step - loss: 0.2916 - accuracy: 0.8656\n",
      "Epoch 45/150\n",
      "32561/32561 [==============================] - 3s 89us/step - loss: 0.2917 - accuracy: 0.8650\n",
      "Epoch 46/150\n",
      "32561/32561 [==============================] - 3s 91us/step - loss: 0.2914 - accuracy: 0.8647\n",
      "Epoch 47/150\n",
      "32561/32561 [==============================] - 3s 92us/step - loss: 0.2915 - accuracy: 0.8660\n",
      "Epoch 48/150\n",
      "32561/32561 [==============================] - 3s 91us/step - loss: 0.2914 - accuracy: 0.8651\n",
      "Epoch 49/150\n",
      "32561/32561 [==============================] - 3s 91us/step - loss: 0.2908 - accuracy: 0.8652\n",
      "Epoch 50/150\n",
      "32561/32561 [==============================] - 3s 91us/step - loss: 0.2908 - accuracy: 0.8646\n",
      "Epoch 51/150\n",
      "32561/32561 [==============================] - 3s 93us/step - loss: 0.2909 - accuracy: 0.8650\n",
      "Epoch 52/150\n",
      "32561/32561 [==============================] - 3s 106us/step - loss: 0.2908 - accuracy: 0.8652\n",
      "Epoch 53/150\n",
      "32561/32561 [==============================] - 3s 91us/step - loss: 0.2901 - accuracy: 0.8650\n",
      "Epoch 54/150\n",
      "32561/32561 [==============================] - 3s 87us/step - loss: 0.2903 - accuracy: 0.8650\n",
      "Epoch 55/150\n",
      "32561/32561 [==============================] - 3s 87us/step - loss: 0.2899 - accuracy: 0.8662\n",
      "Epoch 56/150\n",
      "32561/32561 [==============================] - 3s 89us/step - loss: 0.2898 - accuracy: 0.8666\n",
      "Epoch 57/150\n",
      "32561/32561 [==============================] - 3s 87us/step - loss: 0.2898 - accuracy: 0.8665\n",
      "Epoch 58/150\n",
      "32561/32561 [==============================] - 3s 90us/step - loss: 0.2893 - accuracy: 0.8656\n",
      "Epoch 59/150\n",
      "32561/32561 [==============================] - 3s 93us/step - loss: 0.2896 - accuracy: 0.8655\n",
      "Epoch 60/150\n",
      "32561/32561 [==============================] - 3s 92us/step - loss: 0.2892 - accuracy: 0.8655\n",
      "Epoch 61/150\n",
      "32561/32561 [==============================] - 3s 91us/step - loss: 0.2892 - accuracy: 0.8655\n",
      "Epoch 62/150\n",
      "32561/32561 [==============================] - 3s 99us/step - loss: 0.2893 - accuracy: 0.8653\n",
      "Epoch 63/150\n",
      "32561/32561 [==============================] - 3s 95us/step - loss: 0.2891 - accuracy: 0.8659\n",
      "Epoch 64/150\n",
      "32561/32561 [==============================] - 3s 86us/step - loss: 0.2890 - accuracy: 0.8659\n",
      "Epoch 65/150\n",
      "32561/32561 [==============================] - 3s 85us/step - loss: 0.2889 - accuracy: 0.8655\n",
      "Epoch 66/150\n",
      "32561/32561 [==============================] - 3s 88us/step - loss: 0.2888 - accuracy: 0.8656\n",
      "Epoch 67/150\n",
      "32561/32561 [==============================] - 3s 96us/step - loss: 0.2887 - accuracy: 0.8655\n",
      "Epoch 68/150\n",
      "32561/32561 [==============================] - 3s 105us/step - loss: 0.2886 - accuracy: 0.8653\n",
      "Epoch 69/150\n",
      "32561/32561 [==============================] - 3s 86us/step - loss: 0.2888 - accuracy: 0.8659\n",
      "Epoch 70/150\n",
      "32561/32561 [==============================] - 3s 86us/step - loss: 0.2888 - accuracy: 0.8656\n",
      "Epoch 71/150\n",
      "32561/32561 [==============================] - 3s 86us/step - loss: 0.2882 - accuracy: 0.8655\n",
      "Epoch 72/150\n",
      "32561/32561 [==============================] - 3s 88us/step - loss: 0.2883 - accuracy: 0.8662\n",
      "Epoch 73/150\n",
      "32561/32561 [==============================] - 4s 116us/step - loss: 0.2888 - accuracy: 0.8654\n",
      "Epoch 74/150\n",
      "32561/32561 [==============================] - 3s 95us/step - loss: 0.2880 - accuracy: 0.8663\n",
      "Epoch 75/150\n",
      "32561/32561 [==============================] - 3s 91us/step - loss: 0.2882 - accuracy: 0.8659\n",
      "Epoch 76/150\n",
      "32561/32561 [==============================] - 3s 92us/step - loss: 0.2885 - accuracy: 0.8661\n",
      "Epoch 77/150\n",
      "32561/32561 [==============================] - 3s 88us/step - loss: 0.2882 - accuracy: 0.8662\n",
      "Epoch 78/150\n",
      "32561/32561 [==============================] - 3s 87us/step - loss: 0.2884 - accuracy: 0.8658\n",
      "Epoch 79/150\n",
      "32561/32561 [==============================] - 3s 86us/step - loss: 0.2883 - accuracy: 0.8656\n",
      "Epoch 80/150\n",
      "32561/32561 [==============================] - 3s 87us/step - loss: 0.2879 - accuracy: 0.8652\n",
      "Epoch 81/150\n",
      "32561/32561 [==============================] - 3s 86us/step - loss: 0.2880 - accuracy: 0.8668\n",
      "Epoch 82/150\n",
      "32561/32561 [==============================] - 3s 89us/step - loss: 0.2882 - accuracy: 0.8670\n",
      "Epoch 83/150\n",
      "32561/32561 [==============================] - 3s 104us/step - loss: 0.2877 - accuracy: 0.8667\n",
      "Epoch 84/150\n",
      "32561/32561 [==============================] - 3s 95us/step - loss: 0.2879 - accuracy: 0.8676\n",
      "Epoch 85/150\n",
      "32561/32561 [==============================] - 3s 93us/step - loss: 0.2880 - accuracy: 0.8668\n",
      "Epoch 86/150\n",
      "32561/32561 [==============================] - 3s 93us/step - loss: 0.2879 - accuracy: 0.8669\n",
      "Epoch 87/150\n",
      "32561/32561 [==============================] - 3s 93us/step - loss: 0.2879 - accuracy: 0.8667\n",
      "Epoch 88/150\n",
      "32561/32561 [==============================] - 3s 92us/step - loss: 0.2878 - accuracy: 0.8669\n",
      "Epoch 89/150\n",
      "32561/32561 [==============================] - 3s 90us/step - loss: 0.2880 - accuracy: 0.8676\n",
      "Epoch 90/150\n",
      "32561/32561 [==============================] - 3s 87us/step - loss: 0.2874 - accuracy: 0.8670\n",
      "Epoch 91/150\n",
      "32561/32561 [==============================] - 3s 87us/step - loss: 0.2876 - accuracy: 0.8668\n",
      "Epoch 92/150\n",
      "32561/32561 [==============================] - 3s 93us/step - loss: 0.2873 - accuracy: 0.8664\n",
      "Epoch 93/150\n",
      "32561/32561 [==============================] - 5s 140us/step - loss: 0.2874 - accuracy: 0.8668\n",
      "Epoch 94/150\n",
      "32561/32561 [==============================] - 3s 104us/step - loss: 0.2873 - accuracy: 0.8663\n",
      "Epoch 95/150\n",
      "32561/32561 [==============================] - 4s 108us/step - loss: 0.2875 - accuracy: 0.8672\n",
      "Epoch 96/150\n",
      "32561/32561 [==============================] - 3s 99us/step - loss: 0.2875 - accuracy: 0.8666\n",
      "Epoch 97/150\n",
      "32561/32561 [==============================] - 3s 89us/step - loss: 0.2875 - accuracy: 0.8672\n",
      "Epoch 98/150\n",
      "32561/32561 [==============================] - 3s 93us/step - loss: 0.2875 - accuracy: 0.8661\n",
      "Epoch 99/150\n",
      "32561/32561 [==============================] - 3s 92us/step - loss: 0.2871 - accuracy: 0.8664\n",
      "Epoch 100/150\n",
      "32561/32561 [==============================] - 3s 94us/step - loss: 0.2874 - accuracy: 0.8668\n",
      "Epoch 101/150\n",
      "32561/32561 [==============================] - 3s 96us/step - loss: 0.2872 - accuracy: 0.8680\n",
      "Epoch 102/150\n",
      "32561/32561 [==============================] - 4s 120us/step - loss: 0.2871 - accuracy: 0.8660\n",
      "Epoch 103/150\n",
      "32561/32561 [==============================] - 3s 104us/step - loss: 0.2872 - accuracy: 0.8669\n",
      "Epoch 104/150\n",
      "32561/32561 [==============================] - 3s 96us/step - loss: 0.2868 - accuracy: 0.8671\n",
      "Epoch 105/150\n",
      "32561/32561 [==============================] - 3s 96us/step - loss: 0.2869 - accuracy: 0.8671\n",
      "Epoch 106/150\n",
      "32561/32561 [==============================] - 3s 97us/step - loss: 0.2868 - accuracy: 0.8665\n",
      "Epoch 107/150\n",
      "32561/32561 [==============================] - 3s 98us/step - loss: 0.2869 - accuracy: 0.8675\n",
      "Epoch 108/150\n",
      "32561/32561 [==============================] - 3s 97us/step - loss: 0.2866 - accuracy: 0.8681\n",
      "Epoch 109/150\n",
      "32561/32561 [==============================] - 3s 101us/step - loss: 0.2869 - accuracy: 0.8668\n",
      "Epoch 110/150\n",
      "32561/32561 [==============================] - 3s 101us/step - loss: 0.2870 - accuracy: 0.8655\n",
      "Epoch 111/150\n",
      "32561/32561 [==============================] - 3s 97us/step - loss: 0.2867 - accuracy: 0.8668\n",
      "Epoch 112/150\n",
      "32561/32561 [==============================] - 4s 133us/step - loss: 0.2869 - accuracy: 0.8667\n",
      "Epoch 113/150\n",
      "32561/32561 [==============================] - 3s 102us/step - loss: 0.2869 - accuracy: 0.8660\n",
      "Epoch 114/150\n",
      "32561/32561 [==============================] - 3s 99us/step - loss: 0.2867 - accuracy: 0.8670\n",
      "Epoch 115/150\n",
      "32561/32561 [==============================] - 3s 104us/step - loss: 0.2864 - accuracy: 0.8671\n",
      "Epoch 116/150\n",
      "32561/32561 [==============================] - 3s 95us/step - loss: 0.2866 - accuracy: 0.8668\n",
      "Epoch 117/150\n",
      "32561/32561 [==============================] - 3s 99us/step - loss: 0.2866 - accuracy: 0.8667\n",
      "Epoch 118/150\n",
      "32561/32561 [==============================] - 3s 102us/step - loss: 0.2865 - accuracy: 0.8660\n",
      "Epoch 119/150\n",
      "32561/32561 [==============================] - 3s 96us/step - loss: 0.2868 - accuracy: 0.8671\n",
      "Epoch 120/150\n",
      "32561/32561 [==============================] - 3s 97us/step - loss: 0.2864 - accuracy: 0.8666\n",
      "Epoch 121/150\n",
      "32561/32561 [==============================] - 4s 108us/step - loss: 0.2866 - accuracy: 0.8678\n",
      "Epoch 122/150\n",
      "32561/32561 [==============================] - 3s 99us/step - loss: 0.2863 - accuracy: 0.8679\n",
      "Epoch 123/150\n",
      "32561/32561 [==============================] - 3s 100us/step - loss: 0.2864 - accuracy: 0.8670\n",
      "Epoch 124/150\n",
      "32561/32561 [==============================] - 3s 106us/step - loss: 0.2866 - accuracy: 0.8666\n",
      "Epoch 125/150\n",
      "32561/32561 [==============================] - 3s 105us/step - loss: 0.2864 - accuracy: 0.8679\n",
      "Epoch 126/150\n",
      "32561/32561 [==============================] - 3s 97us/step - loss: 0.2861 - accuracy: 0.8664\n",
      "Epoch 127/150\n",
      "32561/32561 [==============================] - 3s 97us/step - loss: 0.2863 - accuracy: 0.8675\n",
      "Epoch 128/150\n",
      "32561/32561 [==============================] - 3s 100us/step - loss: 0.2856 - accuracy: 0.8669\n",
      "Epoch 129/150\n",
      "32561/32561 [==============================] - 3s 101us/step - loss: 0.2861 - accuracy: 0.8672\n",
      "Epoch 130/150\n",
      "32561/32561 [==============================] - 4s 121us/step - loss: 0.2857 - accuracy: 0.8672\n",
      "Epoch 131/150\n",
      "32561/32561 [==============================] - 3s 97us/step - loss: 0.2860 - accuracy: 0.8673\n",
      "Epoch 132/150\n",
      "32561/32561 [==============================] - 3s 96us/step - loss: 0.2860 - accuracy: 0.8669\n",
      "Epoch 133/150\n",
      "32561/32561 [==============================] - 3s 98us/step - loss: 0.2859 - accuracy: 0.8680\n",
      "Epoch 134/150\n",
      "32561/32561 [==============================] - 3s 99us/step - loss: 0.2858 - accuracy: 0.8671\n",
      "Epoch 135/150\n",
      "32561/32561 [==============================] - 3s 98us/step - loss: 0.2858 - accuracy: 0.8659\n",
      "Epoch 136/150\n",
      "32561/32561 [==============================] - 3s 97us/step - loss: 0.2858 - accuracy: 0.8672\n",
      "Epoch 137/150\n",
      "32561/32561 [==============================] - 3s 93us/step - loss: 0.2858 - accuracy: 0.8666\n",
      "Epoch 138/150\n",
      "32561/32561 [==============================] - 3s 95us/step - loss: 0.2859 - accuracy: 0.8673\n",
      "Epoch 139/150\n",
      "32561/32561 [==============================] - 4s 111us/step - loss: 0.2854 - accuracy: 0.8668\n",
      "Epoch 140/150\n",
      "32561/32561 [==============================] - 3s 94us/step - loss: 0.2857 - accuracy: 0.8671\n",
      "Epoch 141/150\n",
      "32561/32561 [==============================] - 3s 92us/step - loss: 0.2859 - accuracy: 0.8662\n",
      "Epoch 142/150\n",
      "32561/32561 [==============================] - 3s 87us/step - loss: 0.2858 - accuracy: 0.8670\n",
      "Epoch 143/150\n",
      "32561/32561 [==============================] - 3s 95us/step - loss: 0.2859 - accuracy: 0.8665\n",
      "Epoch 144/150\n",
      "32561/32561 [==============================] - 3s 98us/step - loss: 0.2860 - accuracy: 0.8665\n",
      "Epoch 145/150\n",
      "32561/32561 [==============================] - 3s 97us/step - loss: 0.2854 - accuracy: 0.8665\n",
      "Epoch 146/150\n",
      "32561/32561 [==============================] - 3s 97us/step - loss: 0.2855 - accuracy: 0.8670\n",
      "Epoch 147/150\n",
      "32561/32561 [==============================] - 3s 103us/step - loss: 0.2855 - accuracy: 0.8667\n",
      "Epoch 148/150\n",
      "32561/32561 [==============================] - 3s 101us/step - loss: 0.2856 - accuracy: 0.8678\n",
      "Epoch 149/150\n",
      "32561/32561 [==============================] - 4s 130us/step - loss: 0.2855 - accuracy: 0.8666\n",
      "Epoch 150/150\n",
      "32561/32561 [==============================] - 3s 101us/step - loss: 0.2856 - accuracy: 0.8672\n",
      "16281/16281 [==============================] - 0s 16us/step\n",
      "Accuracy: 84.94\n"
     ]
    }
   ],
   "source": [
    "# define the keras model\n",
    "classifier = Sequential()\n",
    "classifier.add(Dense(12, input_dim=59, activation='relu'))\n",
    "classifier.add(Dense(8, activation='relu'))\n",
    "classifier.add(Dense(1, activation='sigmoid'))\n",
    "# compile the keras model\n",
    "classifier.compile(loss='binary_crossentropy', optimizer='adam', metrics=['accuracy'])\n",
    "# fit the keras model on the dataset\n",
    "classifier.fit(X_sc, Y, epochs=150, batch_size=10)\n",
    "# evaluate the keras model\n",
    "_, accuracy = classifier.evaluate(X_test_sc, y_val)\n",
    "print('Accuracy: %.2f' % (accuracy*100))"
   ]
  },
  {
   "cell_type": "markdown",
   "metadata": {},
   "source": [
    "Hyperparameter tuning using grid-search algorithm for finding best suited paramters"
   ]
  },
  {
   "cell_type": "markdown",
   "metadata": {},
   "source": [
    "Drop-out & weight constraint"
   ]
  },
  {
   "cell_type": "code",
   "execution_count": 62,
   "metadata": {},
   "outputs": [],
   "source": [
    "def create_model(dropout_rate=0.0, weight_constraint=0):\n",
    "\t# create model\n",
    "    model = Sequential()\n",
    "    model.add(Dense(12, input_dim=59, kernel_initializer='uniform', activation='linear', kernel_constraint=maxnorm(weight_constraint)))\n",
    "    model.add(Dropout(dropout_rate))\n",
    "    model.add(Dense(1, kernel_initializer='uniform', activation='sigmoid'))\n",
    "    # Compile model\n",
    "    model.compile(loss='binary_crossentropy', optimizer='adam', metrics=['accuracy'])\n",
    "    return model\n",
    "\n",
    "seed = 7\n",
    "np.random.seed(seed)"
   ]
  },
  {
   "cell_type": "code",
   "execution_count": 63,
   "metadata": {},
   "outputs": [],
   "source": [
    "# model creation\n",
    "model = KerasClassifier(build_fn=create_model, epochs=150, batch_size=10, verbose=0)\n",
    "# define the grid search parameters\n",
    "weight_constraint = [1, 2, 3, 4, 5]\n",
    "dropout_rate = [0.0, 0.1, 0.2, 0.3, 0.4, 0.5, 0.6, 0.7, 0.8, 0.9]\n",
    "param_grid = dict(dropout_rate=dropout_rate, weight_constraint=weight_constraint)\n",
    "grid = GridSearchCV(estimator=model, param_grid=param_grid, n_jobs=-1, cv=3)\n",
    "grid_result = grid.fit(X_train_sc, y_train)"
   ]
  },
  {
   "cell_type": "code",
   "execution_count": 64,
   "metadata": {},
   "outputs": [
    {
     "name": "stdout",
     "output_type": "stream",
     "text": [
      "Best: 0.852416 using {'dropout_rate': 0.0, 'weight_constraint': 4}\n",
      "0.850246 (0.003061) with: {'dropout_rate': 0.0, 'weight_constraint': 1}\n",
      "0.850041 (0.001622) with: {'dropout_rate': 0.0, 'weight_constraint': 2}\n",
      "0.850737 (0.003021) with: {'dropout_rate': 0.0, 'weight_constraint': 3}\n",
      "0.852416 (0.002379) with: {'dropout_rate': 0.0, 'weight_constraint': 4}\n",
      "0.851188 (0.002762) with: {'dropout_rate': 0.0, 'weight_constraint': 5}\n",
      "0.851433 (0.002738) with: {'dropout_rate': 0.1, 'weight_constraint': 1}\n",
      "0.851228 (0.003280) with: {'dropout_rate': 0.1, 'weight_constraint': 2}\n",
      "0.851761 (0.002180) with: {'dropout_rate': 0.1, 'weight_constraint': 3}\n",
      "0.851802 (0.002518) with: {'dropout_rate': 0.1, 'weight_constraint': 4}\n",
      "0.852170 (0.002862) with: {'dropout_rate': 0.1, 'weight_constraint': 5}\n",
      "0.849140 (0.001394) with: {'dropout_rate': 0.2, 'weight_constraint': 1}\n",
      "0.851802 (0.002540) with: {'dropout_rate': 0.2, 'weight_constraint': 2}\n",
      "0.851720 (0.002960) with: {'dropout_rate': 0.2, 'weight_constraint': 3}\n",
      "0.851966 (0.002730) with: {'dropout_rate': 0.2, 'weight_constraint': 4}\n",
      "0.850328 (0.002802) with: {'dropout_rate': 0.2, 'weight_constraint': 5}\n",
      "0.850614 (0.001808) with: {'dropout_rate': 0.3, 'weight_constraint': 1}\n",
      "0.851556 (0.003010) with: {'dropout_rate': 0.3, 'weight_constraint': 2}\n",
      "0.852170 (0.002673) with: {'dropout_rate': 0.3, 'weight_constraint': 3}\n",
      "0.851679 (0.002639) with: {'dropout_rate': 0.3, 'weight_constraint': 4}\n",
      "0.851310 (0.002203) with: {'dropout_rate': 0.3, 'weight_constraint': 5}\n",
      "0.850614 (0.002671) with: {'dropout_rate': 0.4, 'weight_constraint': 1}\n",
      "0.850942 (0.001896) with: {'dropout_rate': 0.4, 'weight_constraint': 2}\n",
      "0.851433 (0.002418) with: {'dropout_rate': 0.4, 'weight_constraint': 3}\n",
      "0.851269 (0.002923) with: {'dropout_rate': 0.4, 'weight_constraint': 4}\n",
      "0.850696 (0.001883) with: {'dropout_rate': 0.4, 'weight_constraint': 5}\n",
      "0.849550 (0.003545) with: {'dropout_rate': 0.5, 'weight_constraint': 1}\n",
      "0.850287 (0.003188) with: {'dropout_rate': 0.5, 'weight_constraint': 2}\n",
      "0.850901 (0.002788) with: {'dropout_rate': 0.5, 'weight_constraint': 3}\n",
      "0.850860 (0.002825) with: {'dropout_rate': 0.5, 'weight_constraint': 4}\n",
      "0.850573 (0.002476) with: {'dropout_rate': 0.5, 'weight_constraint': 5}\n",
      "0.849754 (0.002094) with: {'dropout_rate': 0.6, 'weight_constraint': 1}\n",
      "0.850901 (0.001727) with: {'dropout_rate': 0.6, 'weight_constraint': 2}\n",
      "0.850614 (0.002294) with: {'dropout_rate': 0.6, 'weight_constraint': 3}\n",
      "0.850246 (0.002654) with: {'dropout_rate': 0.6, 'weight_constraint': 4}\n",
      "0.851433 (0.002518) with: {'dropout_rate': 0.6, 'weight_constraint': 5}\n",
      "0.849345 (0.003245) with: {'dropout_rate': 0.7, 'weight_constraint': 1}\n",
      "0.849099 (0.002288) with: {'dropout_rate': 0.7, 'weight_constraint': 2}\n",
      "0.850450 (0.002201) with: {'dropout_rate': 0.7, 'weight_constraint': 3}\n",
      "0.850123 (0.001858) with: {'dropout_rate': 0.7, 'weight_constraint': 4}\n",
      "0.849959 (0.002474) with: {'dropout_rate': 0.7, 'weight_constraint': 5}\n",
      "0.848935 (0.003867) with: {'dropout_rate': 0.8, 'weight_constraint': 1}\n",
      "0.848690 (0.002059) with: {'dropout_rate': 0.8, 'weight_constraint': 2}\n",
      "0.849754 (0.002532) with: {'dropout_rate': 0.8, 'weight_constraint': 3}\n",
      "0.848034 (0.000919) with: {'dropout_rate': 0.8, 'weight_constraint': 4}\n",
      "0.848280 (0.001737) with: {'dropout_rate': 0.8, 'weight_constraint': 5}\n",
      "0.842506 (0.002699) with: {'dropout_rate': 0.9, 'weight_constraint': 1}\n",
      "0.843817 (0.001850) with: {'dropout_rate': 0.9, 'weight_constraint': 2}\n",
      "0.839967 (0.003069) with: {'dropout_rate': 0.9, 'weight_constraint': 3}\n",
      "0.841728 (0.000817) with: {'dropout_rate': 0.9, 'weight_constraint': 4}\n",
      "0.841974 (0.001756) with: {'dropout_rate': 0.9, 'weight_constraint': 5}\n"
     ]
    }
   ],
   "source": [
    "# summarize results\n",
    "print(\"Best: %f using %s\" % (grid_result.best_score_, grid_result.best_params_))\n",
    "means = grid_result.cv_results_['mean_test_score']\n",
    "stds = grid_result.cv_results_['std_test_score']\n",
    "params = grid_result.cv_results_['params']\n",
    "for mean, stdev, param in zip(means, stds, params):\n",
    "    print(\"%f (%f) with: %r\" % (mean, stdev, param)) "
   ]
  },
  {
   "cell_type": "code",
   "execution_count": null,
   "metadata": {},
   "outputs": [],
   "source": []
  },
  {
   "cell_type": "markdown",
   "metadata": {},
   "source": [
    "Batch size & epochs"
   ]
  },
  {
   "cell_type": "code",
   "execution_count": 90,
   "metadata": {},
   "outputs": [
    {
     "name": "stdout",
     "output_type": "stream",
     "text": [
      "Best: 0.760074 using {'batch_size': 10, 'epochs': 10}\n",
      "0.760074 (0.003738) with: {'batch_size': 10, 'epochs': 10}\n",
      "0.760074 (0.003738) with: {'batch_size': 10, 'epochs': 50}\n",
      "0.760074 (0.003738) with: {'batch_size': 10, 'epochs': 100}\n",
      "0.760074 (0.003738) with: {'batch_size': 20, 'epochs': 10}\n",
      "0.760074 (0.003738) with: {'batch_size': 20, 'epochs': 50}\n",
      "0.760074 (0.003738) with: {'batch_size': 20, 'epochs': 100}\n",
      "0.760074 (0.003738) with: {'batch_size': 40, 'epochs': 10}\n",
      "0.760074 (0.003738) with: {'batch_size': 40, 'epochs': 50}\n",
      "0.760074 (0.003738) with: {'batch_size': 40, 'epochs': 100}\n",
      "0.760074 (0.003738) with: {'batch_size': 60, 'epochs': 10}\n",
      "0.760074 (0.003738) with: {'batch_size': 60, 'epochs': 50}\n",
      "0.760074 (0.003738) with: {'batch_size': 60, 'epochs': 100}\n",
      "0.760074 (0.003738) with: {'batch_size': 80, 'epochs': 10}\n",
      "0.760074 (0.003738) with: {'batch_size': 80, 'epochs': 50}\n",
      "0.760074 (0.003738) with: {'batch_size': 80, 'epochs': 100}\n",
      "0.760074 (0.003738) with: {'batch_size': 100, 'epochs': 10}\n",
      "0.760074 (0.003738) with: {'batch_size': 100, 'epochs': 50}\n",
      "0.760074 (0.003738) with: {'batch_size': 100, 'epochs': 100}\n"
     ]
    }
   ],
   "source": [
    "# create model\n",
    "model = KerasClassifier(build_fn=create_model, verbose=0)\n",
    "# define the grid search parameters\n",
    "batch_size = [10, 20, 40, 60, 80, 100]\n",
    "epochs = [10, 50, 100]\n",
    "param_grid = dict(batch_size=batch_size, epochs=epochs)\n",
    "grid = GridSearchCV(estimator=model, param_grid=param_grid, n_jobs=-1, cv=3)\n",
    "grid_result = grid.fit(X_train_sc, y_train)\n",
    "# summarize results\n",
    "print(\"Best: %f using %s\" % (grid_result.best_score_, grid_result.best_params_))\n",
    "means = grid_result.cv_results_['mean_test_score']\n",
    "stds = grid_result.cv_results_['std_test_score']\n",
    "params = grid_result.cv_results_['params']\n",
    "for mean, stdev, param in zip(means, stds, params):\n",
    "    print(\"%f (%f) with: %r\" % (mean, stdev, param))"
   ]
  },
  {
   "cell_type": "code",
   "execution_count": null,
   "metadata": {},
   "outputs": [],
   "source": []
  },
  {
   "cell_type": "markdown",
   "metadata": {},
   "source": [
    "Optimization algorithm"
   ]
  },
  {
   "cell_type": "code",
   "execution_count": 103,
   "metadata": {},
   "outputs": [
    {
     "name": "stdout",
     "output_type": "stream",
     "text": [
      "Best: 0.827431 using {'optimizer': 'Adamax'}\n",
      "0.759375 (0.003072) with: {'optimizer': 'SGD'}\n",
      "0.796351 (0.006762) with: {'optimizer': 'RMSprop'}\n",
      "0.803416 (0.043897) with: {'optimizer': 'Adagrad'}\n",
      "0.752189 (0.059860) with: {'optimizer': 'Adadelta'}\n",
      "0.795798 (0.023760) with: {'optimizer': 'Adam'}\n",
      "0.827431 (0.003947) with: {'optimizer': 'Adamax'}\n",
      "0.760787 (0.004200) with: {'optimizer': 'Nadam'}\n"
     ]
    }
   ],
   "source": [
    "def create_model(optimizer='adam'):\n",
    "\t# create model\n",
    "\tmodel = Sequential()\n",
    "\tmodel.add(Dense(12, input_dim=59, activation='relu'))\n",
    "\tmodel.add(Dense(1, activation='sigmoid'))\n",
    "\t# Compile model\n",
    "\tmodel.compile(loss='binary_crossentropy', optimizer=optimizer, metrics=['accuracy'])\n",
    "\treturn model\n",
    "# fix random seed for reproducibility\n",
    "seed = 7\n",
    "np.random.seed(seed)\n",
    "\n",
    "\n",
    "# create model\n",
    "model = KerasClassifier(build_fn=create_model, epochs=100, batch_size=10, verbose=0)\n",
    "# define the grid search parameters\n",
    "optimizer = ['SGD', 'RMSprop', 'Adagrad', 'Adadelta', 'Adam', 'Adamax', 'Nadam']\n",
    "param_grid = dict(optimizer=optimizer)\n",
    "grid = GridSearchCV(estimator=model, param_grid=param_grid, n_jobs=-1, cv=3)\n",
    "grid_result = grid.fit(X, Y)\n",
    "# summarize results\n",
    "print(\"Best: %f using %s\" % (grid_result.best_score_, grid_result.best_params_))\n",
    "means = grid_result.cv_results_['mean_test_score']\n",
    "stds = grid_result.cv_results_['std_test_score']\n",
    "params = grid_result.cv_results_['params']\n",
    "for mean, stdev, param in zip(means, stds, params):\n",
    "    print(\"%f (%f) with: %r\" % (mean, stdev, param))"
   ]
  },
  {
   "cell_type": "code",
   "execution_count": null,
   "metadata": {},
   "outputs": [],
   "source": []
  },
  {
   "cell_type": "markdown",
   "metadata": {},
   "source": [
    "Learning rate & momentum"
   ]
  },
  {
   "cell_type": "code",
   "execution_count": 104,
   "metadata": {},
   "outputs": [
    {
     "name": "stdout",
     "output_type": "stream",
     "text": [
      "Best: 0.854586 using {'learn_rate': 0.001, 'momentum': 0.6}\n",
      "0.853931 (0.002867) with: {'learn_rate': 0.001, 'momentum': 0.0}\n",
      "0.853972 (0.003939) with: {'learn_rate': 0.001, 'momentum': 0.2}\n",
      "0.853849 (0.003697) with: {'learn_rate': 0.001, 'momentum': 0.4}\n",
      "0.854586 (0.004063) with: {'learn_rate': 0.001, 'momentum': 0.6}\n",
      "0.852375 (0.004238) with: {'learn_rate': 0.001, 'momentum': 0.8}\n",
      "0.853276 (0.004577) with: {'learn_rate': 0.001, 'momentum': 0.9}\n",
      "0.852293 (0.005589) with: {'learn_rate': 0.01, 'momentum': 0.0}\n",
      "0.851433 (0.002802) with: {'learn_rate': 0.01, 'momentum': 0.2}\n",
      "0.851433 (0.002788) with: {'learn_rate': 0.01, 'momentum': 0.4}\n",
      "0.852048 (0.002711) with: {'learn_rate': 0.01, 'momentum': 0.6}\n",
      "0.850860 (0.002930) with: {'learn_rate': 0.01, 'momentum': 0.8}\n",
      "0.852948 (0.001567) with: {'learn_rate': 0.01, 'momentum': 0.9}\n",
      "0.851147 (0.002288) with: {'learn_rate': 0.1, 'momentum': 0.0}\n",
      "0.850696 (0.000452) with: {'learn_rate': 0.1, 'momentum': 0.2}\n",
      "0.846929 (0.004173) with: {'learn_rate': 0.1, 'momentum': 0.4}\n",
      "0.846642 (0.003076) with: {'learn_rate': 0.1, 'momentum': 0.6}\n",
      "0.833620 (0.006756) with: {'learn_rate': 0.1, 'momentum': 0.8}\n",
      "0.766339 (0.006928) with: {'learn_rate': 0.1, 'momentum': 0.9}\n",
      "0.850737 (0.000857) with: {'learn_rate': 0.2, 'momentum': 0.0}\n",
      "0.846970 (0.002859) with: {'learn_rate': 0.2, 'momentum': 0.2}\n",
      "0.842506 (0.007132) with: {'learn_rate': 0.2, 'momentum': 0.4}\n",
      "0.832801 (0.003301) with: {'learn_rate': 0.2, 'momentum': 0.6}\n",
      "0.779115 (0.007455) with: {'learn_rate': 0.2, 'momentum': 0.8}\n",
      "0.760033 (0.003766) with: {'learn_rate': 0.2, 'momentum': 0.9}\n",
      "0.848239 (0.002049) with: {'learn_rate': 0.3, 'momentum': 0.0}\n",
      "0.844226 (0.002508) with: {'learn_rate': 0.3, 'momentum': 0.2}\n",
      "0.842793 (0.002059) with: {'learn_rate': 0.3, 'momentum': 0.4}\n",
      "0.807535 (0.012193) with: {'learn_rate': 0.3, 'momentum': 0.6}\n",
      "0.762203 (0.003547) with: {'learn_rate': 0.3, 'momentum': 0.8}\n",
      "0.000000 (0.000000) with: {'learn_rate': 0.3, 'momentum': 0.9}\n"
     ]
    }
   ],
   "source": [
    "from keras.optimizers import SGD\n",
    "def create_model(learn_rate=0.01, momentum=0):\n",
    "\t# create model\n",
    "\tmodel = Sequential()\n",
    "\tmodel.add(Dense(12, input_dim=59, activation='relu'))\n",
    "\tmodel.add(Dense(1, activation='sigmoid'))\n",
    "\t# Compile model\n",
    "\toptimizer = SGD(lr=learn_rate, momentum=momentum)\n",
    "\tmodel.compile(loss='binary_crossentropy', optimizer=optimizer, metrics=['accuracy'])\n",
    "\treturn model\n",
    "# fix random seed for reproducibility\n",
    "seed = 7\n",
    "np.random.seed(seed)\n",
    "\n",
    "model = KerasClassifier(build_fn=create_model, epochs=100, batch_size=10, verbose=0)\n",
    "# define the grid search parameters\n",
    "learn_rate = [0.001, 0.01, 0.1, 0.2, 0.3]\n",
    "momentum = [0.0, 0.2, 0.4, 0.6, 0.8, 0.9]\n",
    "param_grid = dict(learn_rate=learn_rate, momentum=momentum)\n",
    "grid = GridSearchCV(estimator=model, param_grid=param_grid, n_jobs=-1, cv=3)\n",
    "grid_result = grid.fit(X_train_sc, y_train)\n",
    "# summarize results\n",
    "print(\"Best: %f using %s\" % (grid_result.best_score_, grid_result.best_params_))\n",
    "means = grid_result.cv_results_['mean_test_score']\n",
    "stds = grid_result.cv_results_['std_test_score']\n",
    "params = grid_result.cv_results_['params']\n",
    "for mean, stdev, param in zip(means, stds, params):\n",
    "    print(\"%f (%f) with: %r\" % (mean, stdev, param))"
   ]
  },
  {
   "cell_type": "code",
   "execution_count": null,
   "metadata": {},
   "outputs": [],
   "source": []
  },
  {
   "cell_type": "markdown",
   "metadata": {},
   "source": [
    "Weight Initialization"
   ]
  },
  {
   "cell_type": "code",
   "execution_count": 105,
   "metadata": {},
   "outputs": [
    {
     "name": "stdout",
     "output_type": "stream",
     "text": [
      "Best: 0.852252 using {'init_mode': 'normal'}\n",
      "0.849877 (0.004604) with: {'init_mode': 'uniform'}\n",
      "0.852048 (0.001896) with: {'init_mode': 'lecun_uniform'}\n",
      "0.852252 (0.001899) with: {'init_mode': 'normal'}\n",
      "0.760074 (0.003738) with: {'init_mode': 'zero'}\n",
      "0.850328 (0.003613) with: {'init_mode': 'glorot_normal'}\n",
      "0.849631 (0.003973) with: {'init_mode': 'glorot_uniform'}\n",
      "0.849877 (0.002407) with: {'init_mode': 'he_normal'}\n",
      "0.851761 (0.004869) with: {'init_mode': 'he_uniform'}\n"
     ]
    }
   ],
   "source": [
    "def create_model(init_mode='uniform'):\n",
    "\t# create model\n",
    "\tmodel = Sequential()\n",
    "\tmodel.add(Dense(12, input_dim=59, kernel_initializer=init_mode, activation='relu'))\n",
    "\tmodel.add(Dense(1, kernel_initializer=init_mode, activation='sigmoid'))\n",
    "\t# Compile model\n",
    "\tmodel.compile(loss='binary_crossentropy', optimizer='adam', metrics=['accuracy'])\n",
    "\treturn model\n",
    "# fix random seed for reproducibility\n",
    "seed = 7\n",
    "np.random.seed(seed)\n",
    "\n",
    "# create model\n",
    "model = KerasClassifier(build_fn=create_model, epochs=100, batch_size=10, verbose=0)\n",
    "# define the grid search parameters\n",
    "init_mode = ['uniform', 'lecun_uniform', 'normal', 'zero', 'glorot_normal', 'glorot_uniform', 'he_normal', 'he_uniform']\n",
    "param_grid = dict(init_mode=init_mode)\n",
    "grid = GridSearchCV(estimator=model, param_grid=param_grid, n_jobs=-1, cv=3)\n",
    "grid_result = grid.fit(X_train_sc, y_train)\n",
    "# summarize results\n",
    "print(\"Best: %f using %s\" % (grid_result.best_score_, grid_result.best_params_))\n",
    "means = grid_result.cv_results_['mean_test_score']\n",
    "stds = grid_result.cv_results_['std_test_score']\n",
    "params = grid_result.cv_results_['params']\n",
    "for mean, stdev, param in zip(means, stds, params):\n",
    "    print(\"%f (%f) with: %r\" % (mean, stdev, param))"
   ]
  },
  {
   "cell_type": "code",
   "execution_count": null,
   "metadata": {},
   "outputs": [],
   "source": []
  },
  {
   "cell_type": "markdown",
   "metadata": {},
   "source": [
    "Activation Function"
   ]
  },
  {
   "cell_type": "code",
   "execution_count": 106,
   "metadata": {},
   "outputs": [
    {
     "name": "stdout",
     "output_type": "stream",
     "text": [
      "Best: 0.852703 using {'activation': 'hard_sigmoid'}\n",
      "0.852580 (0.001350) with: {'activation': 'softmax'}\n",
      "0.852252 (0.004148) with: {'activation': 'softplus'}\n",
      "0.848935 (0.002731) with: {'activation': 'softsign'}\n",
      "0.850614 (0.002048) with: {'activation': 'relu'}\n",
      "0.850205 (0.003849) with: {'activation': 'tanh'}\n",
      "0.851392 (0.003697) with: {'activation': 'sigmoid'}\n",
      "0.852703 (0.001357) with: {'activation': 'hard_sigmoid'}\n",
      "0.851679 (0.003053) with: {'activation': 'linear'}\n"
     ]
    }
   ],
   "source": [
    "# Function to create model, required for KerasClassifier\n",
    "def create_model(activation='relu'):\n",
    "\t# create model\n",
    "\tmodel = Sequential()\n",
    "\tmodel.add(Dense(12, input_dim=59, kernel_initializer='uniform', activation=activation))\n",
    "\tmodel.add(Dense(1, kernel_initializer='uniform', activation='sigmoid'))\n",
    "\t# Compile model\n",
    "\tmodel.compile(loss='binary_crossentropy', optimizer='adam', metrics=['accuracy'])\n",
    "\treturn model\n",
    "# fix random seed for reproducibility\n",
    "seed = 7\n",
    "np.random.seed(seed)\n",
    "\n",
    "# create model\n",
    "model = KerasClassifier(build_fn=create_model, epochs=100, batch_size=10, verbose=0)\n",
    "# define the grid search parameters\n",
    "activation = ['softmax', 'softplus', 'softsign', 'relu', 'tanh', 'sigmoid', 'hard_sigmoid', 'linear']\n",
    "param_grid = dict(activation=activation)\n",
    "grid = GridSearchCV(estimator=model, param_grid=param_grid, n_jobs=-1, cv=3)\n",
    "grid_result = grid.fit(X_train_sc, y_train)\n",
    "# summarize results\n",
    "print(\"Best: %f using %s\" % (grid_result.best_score_, grid_result.best_params_))\n",
    "means = grid_result.cv_results_['mean_test_score']\n",
    "stds = grid_result.cv_results_['std_test_score']\n",
    "params = grid_result.cv_results_['params']\n",
    "for mean, stdev, param in zip(means, stds, params):\n",
    "    print(\"%f (%f) with: %r\" % (mean, stdev, param))"
   ]
  },
  {
   "cell_type": "code",
   "execution_count": null,
   "metadata": {},
   "outputs": [],
   "source": []
  },
  {
   "cell_type": "markdown",
   "metadata": {},
   "source": [
    "Number of neuron in hidden layer"
   ]
  },
  {
   "cell_type": "code",
   "execution_count": 107,
   "metadata": {},
   "outputs": [
    {
     "name": "stdout",
     "output_type": "stream",
     "text": [
      "Best: 0.851597 using {'neurons': 10}\n",
      "0.848485 (0.001127) with: {'neurons': 1}\n",
      "0.850573 (0.002724) with: {'neurons': 5}\n",
      "0.851597 (0.002902) with: {'neurons': 10}\n",
      "0.851229 (0.001657) with: {'neurons': 15}\n",
      "0.850369 (0.000531) with: {'neurons': 20}\n",
      "0.850655 (0.002731) with: {'neurons': 25}\n",
      "0.851392 (0.002901) with: {'neurons': 30}\n"
     ]
    }
   ],
   "source": [
    "def create_model(neurons=1):\n",
    "\t# create model\n",
    "\tmodel = Sequential()\n",
    "\tmodel.add(Dense(neurons, input_dim=59, kernel_initializer='uniform', activation='linear', kernel_constraint=maxnorm(4)))\n",
    "\tmodel.add(Dropout(0.2))\n",
    "\tmodel.add(Dense(1, kernel_initializer='uniform', activation='sigmoid'))\n",
    "\t# Compile model\n",
    "\tmodel.compile(loss='binary_crossentropy', optimizer='adam', metrics=['accuracy'])\n",
    "\treturn model\n",
    "# fix random seed for reproducibility\n",
    "seed = 7\n",
    "np.random.seed(seed)\n",
    "\n",
    "# create model\n",
    "model = KerasClassifier(build_fn=create_model, epochs=100, batch_size=10, verbose=0)\n",
    "# define the grid search parameters\n",
    "neurons = [1, 5, 10, 15, 20, 25, 30]\n",
    "param_grid = dict(neurons=neurons)\n",
    "grid = GridSearchCV(estimator=model, param_grid=param_grid, n_jobs=-1, cv=3)\n",
    "grid_result = grid.fit(X_train_sc, y_train)\n",
    "# summarize results\n",
    "print(\"Best: %f using %s\" % (grid_result.best_score_, grid_result.best_params_))\n",
    "means = grid_result.cv_results_['mean_test_score']\n",
    "stds = grid_result.cv_results_['std_test_score']\n",
    "params = grid_result.cv_results_['params']\n",
    "for mean, stdev, param in zip(means, stds, params):\n",
    "    print(\"%f (%f) with: %r\" % (mean, stdev, param))"
   ]
  },
  {
   "cell_type": "code",
   "execution_count": null,
   "metadata": {},
   "outputs": [],
   "source": []
  },
  {
   "cell_type": "code",
   "execution_count": null,
   "metadata": {},
   "outputs": [],
   "source": []
  },
  {
   "cell_type": "code",
   "execution_count": null,
   "metadata": {},
   "outputs": [],
   "source": []
  },
  {
   "cell_type": "markdown",
   "metadata": {},
   "source": [
    "Using best parameters & creating new model"
   ]
  },
  {
   "cell_type": "code",
   "execution_count": 80,
   "metadata": {},
   "outputs": [],
   "source": [
    "from keras.optimizers import SGD\n",
    "\n",
    "# create model\n",
    "model = Sequential()\n",
    "model.add(Dense(10, input_dim=59, kernel_initializer='normal', activation='hard_sigmoid', kernel_constraint=maxnorm(4)))\n",
    "model.add(Dropout(0.0))\n",
    "model.add(Dense(1, kernel_initializer='normal', activation='sigmoid'))\n",
    "optimizer = SGD(lr=0.001, momentum=0.6)\n",
    "# Compile model\n",
    "model.compile(loss='binary_crossentropy', optimizer=optimizer, metrics=['accuracy'])\n",
    "\n",
    "seed = 7\n",
    "np.random.seed(seed)"
   ]
  },
  {
   "cell_type": "code",
   "execution_count": 83,
   "metadata": {},
   "outputs": [
    {
     "name": "stdout",
     "output_type": "stream",
     "text": [
      "Epoch 1/100\n",
      "32561/32561 [==============================] - 3s 78us/step - loss: 0.3109 - accuracy: 0.8552\n",
      "Epoch 2/100\n",
      "32561/32561 [==============================] - 3s 78us/step - loss: 0.3108 - accuracy: 0.8551\n",
      "Epoch 3/100\n",
      "32561/32561 [==============================] - 2s 76us/step - loss: 0.3107 - accuracy: 0.8549\n",
      "Epoch 4/100\n",
      "32561/32561 [==============================] - 2s 73us/step - loss: 0.3107 - accuracy: 0.8552\n",
      "Epoch 5/100\n",
      "32561/32561 [==============================] - 2s 73us/step - loss: 0.3106 - accuracy: 0.8551\n",
      "Epoch 6/100\n",
      "32561/32561 [==============================] - 3s 77us/step - loss: 0.3106 - accuracy: 0.8556\n",
      "Epoch 7/100\n",
      "32561/32561 [==============================] - 3s 77us/step - loss: 0.3105 - accuracy: 0.8556\n",
      "Epoch 8/100\n",
      "32561/32561 [==============================] - 3s 78us/step - loss: 0.3105 - accuracy: 0.8552\n",
      "Epoch 9/100\n",
      "32561/32561 [==============================] - 3s 80us/step - loss: 0.3104 - accuracy: 0.8550\n",
      "Epoch 10/100\n",
      "32561/32561 [==============================] - 3s 85us/step - loss: 0.3103 - accuracy: 0.8552\n",
      "Epoch 11/100\n",
      "32561/32561 [==============================] - 2s 72us/step - loss: 0.3104 - accuracy: 0.8549\n",
      "Epoch 12/100\n",
      "32561/32561 [==============================] - 2s 74us/step - loss: 0.3103 - accuracy: 0.8551\n",
      "Epoch 13/100\n",
      "32561/32561 [==============================] - 3s 77us/step - loss: 0.3103 - accuracy: 0.8548\n",
      "Epoch 14/100\n",
      "32561/32561 [==============================] - 2s 76us/step - loss: 0.3102 - accuracy: 0.8552\n",
      "Epoch 15/100\n",
      "32561/32561 [==============================] - 3s 84us/step - loss: 0.3101 - accuracy: 0.8555\n",
      "Epoch 16/100\n",
      "32561/32561 [==============================] - 3s 86us/step - loss: 0.3101 - accuracy: 0.8555\n",
      "Epoch 17/100\n",
      "32561/32561 [==============================] - 3s 89us/step - loss: 0.3101 - accuracy: 0.8548\n",
      "Epoch 18/100\n",
      "32561/32561 [==============================] - 3s 82us/step - loss: 0.3100 - accuracy: 0.8554\n",
      "Epoch 19/100\n",
      "32561/32561 [==============================] - 3s 86us/step - loss: 0.3100 - accuracy: 0.8554\n",
      "Epoch 20/100\n",
      "32561/32561 [==============================] - 3s 87us/step - loss: 0.3100 - accuracy: 0.8554\n",
      "Epoch 21/100\n",
      "32561/32561 [==============================] - 3s 100us/step - loss: 0.3099 - accuracy: 0.8555\n",
      "Epoch 22/100\n",
      "32561/32561 [==============================] - 3s 83us/step - loss: 0.3099 - accuracy: 0.8552\n",
      "Epoch 23/100\n",
      "32561/32561 [==============================] - 3s 86us/step - loss: 0.3098 - accuracy: 0.8559\n",
      "Epoch 24/100\n",
      "32561/32561 [==============================] - 3s 93us/step - loss: 0.3098 - accuracy: 0.8556\n",
      "Epoch 25/100\n",
      "32561/32561 [==============================] - 3s 87us/step - loss: 0.3097 - accuracy: 0.8556\n",
      "Epoch 26/100\n",
      "32561/32561 [==============================] - 3s 82us/step - loss: 0.3097 - accuracy: 0.8555\n",
      "Epoch 27/100\n",
      "32561/32561 [==============================] - 3s 85us/step - loss: 0.3096 - accuracy: 0.8559\n",
      "Epoch 28/100\n",
      "32561/32561 [==============================] - 3s 86us/step - loss: 0.3096 - accuracy: 0.8557\n",
      "Epoch 29/100\n",
      "32561/32561 [==============================] - 3s 85us/step - loss: 0.3096 - accuracy: 0.8555\n",
      "Epoch 30/100\n",
      "32561/32561 [==============================] - 3s 86us/step - loss: 0.3095 - accuracy: 0.8556\n",
      "Epoch 31/100\n",
      "32561/32561 [==============================] - 3s 90us/step - loss: 0.3095 - accuracy: 0.8554\n",
      "Epoch 32/100\n",
      "32561/32561 [==============================] - 3s 98us/step - loss: 0.3094 - accuracy: 0.8559\n",
      "Epoch 33/100\n",
      "32561/32561 [==============================] - 3s 86us/step - loss: 0.3094 - accuracy: 0.8555\n",
      "Epoch 34/100\n",
      "32561/32561 [==============================] - 3s 84us/step - loss: 0.3093 - accuracy: 0.8559\n",
      "Epoch 35/100\n",
      "32561/32561 [==============================] - 3s 84us/step - loss: 0.3093 - accuracy: 0.8557\n",
      "Epoch 36/100\n",
      "32561/32561 [==============================] - 3s 88us/step - loss: 0.3093 - accuracy: 0.8559\n",
      "Epoch 37/100\n",
      "32561/32561 [==============================] - 3s 88us/step - loss: 0.3092 - accuracy: 0.8563\n",
      "Epoch 38/100\n",
      "32561/32561 [==============================] - 3s 83us/step - loss: 0.3092 - accuracy: 0.8560\n",
      "Epoch 39/100\n",
      "32561/32561 [==============================] - 3s 86us/step - loss: 0.3091 - accuracy: 0.8560\n",
      "Epoch 40/100\n",
      "32561/32561 [==============================] - 3s 85us/step - loss: 0.3091 - accuracy: 0.8557\n",
      "Epoch 41/100\n",
      "32561/32561 [==============================] - 3s 84us/step - loss: 0.3091 - accuracy: 0.8558\n",
      "Epoch 42/100\n",
      "32561/32561 [==============================] - 3s 84us/step - loss: 0.3090 - accuracy: 0.8560\n",
      "Epoch 43/100\n",
      "32561/32561 [==============================] - 3s 89us/step - loss: 0.3090 - accuracy: 0.8557\n",
      "Epoch 44/100\n",
      "32561/32561 [==============================] - 3s 84us/step - loss: 0.3090 - accuracy: 0.8560\n",
      "Epoch 45/100\n",
      "32561/32561 [==============================] - 3s 82us/step - loss: 0.3089 - accuracy: 0.8559\n",
      "Epoch 46/100\n",
      "32561/32561 [==============================] - 3s 82us/step - loss: 0.3089 - accuracy: 0.8564\n",
      "Epoch 47/100\n",
      "32561/32561 [==============================] - 3s 86us/step - loss: 0.3089 - accuracy: 0.8562\n",
      "Epoch 48/100\n",
      "32561/32561 [==============================] - 3s 85us/step - loss: 0.3088 - accuracy: 0.8559\n",
      "Epoch 49/100\n",
      "32561/32561 [==============================] - 3s 84us/step - loss: 0.3088 - accuracy: 0.8560\n",
      "Epoch 50/100\n",
      "32561/32561 [==============================] - 3s 81us/step - loss: 0.3087 - accuracy: 0.8559\n",
      "Epoch 51/100\n",
      "32561/32561 [==============================] - 3s 83us/step - loss: 0.3087 - accuracy: 0.8561\n",
      "Epoch 52/100\n",
      "32561/32561 [==============================] - 3s 87us/step - loss: 0.3086 - accuracy: 0.8557\n",
      "Epoch 53/100\n",
      "32561/32561 [==============================] - 3s 89us/step - loss: 0.3086 - accuracy: 0.8558\n",
      "Epoch 54/100\n",
      "32561/32561 [==============================] - 4s 112us/step - loss: 0.3086 - accuracy: 0.8562\n",
      "Epoch 55/100\n",
      "32561/32561 [==============================] - 3s 89us/step - loss: 0.3086 - accuracy: 0.8560\n",
      "Epoch 56/100\n",
      "32561/32561 [==============================] - 3s 87us/step - loss: 0.3085 - accuracy: 0.8564\n",
      "Epoch 57/100\n",
      "32561/32561 [==============================] - 3s 90us/step - loss: 0.3085 - accuracy: 0.8557\n",
      "Epoch 58/100\n",
      "32561/32561 [==============================] - 3s 88us/step - loss: 0.3084 - accuracy: 0.8558\n",
      "Epoch 59/100\n",
      "32561/32561 [==============================] - 3s 88us/step - loss: 0.3084 - accuracy: 0.8564\n",
      "Epoch 60/100\n",
      "32561/32561 [==============================] - 3s 90us/step - loss: 0.3084 - accuracy: 0.8566\n",
      "Epoch 61/100\n",
      "32561/32561 [==============================] - 3s 86us/step - loss: 0.3083 - accuracy: 0.8558\n",
      "Epoch 62/100\n",
      "32561/32561 [==============================] - 3s 84us/step - loss: 0.3083 - accuracy: 0.8566\n",
      "Epoch 63/100\n",
      "32561/32561 [==============================] - 3s 87us/step - loss: 0.3082 - accuracy: 0.8567\n",
      "Epoch 64/100\n",
      "32561/32561 [==============================] - 4s 117us/step - loss: 0.3082 - accuracy: 0.8565\n",
      "Epoch 65/100\n",
      "32561/32561 [==============================] - 3s 92us/step - loss: 0.3082 - accuracy: 0.8557\n",
      "Epoch 66/100\n",
      "32561/32561 [==============================] - 3s 89us/step - loss: 0.3081 - accuracy: 0.8565\n",
      "Epoch 67/100\n",
      "32561/32561 [==============================] - 3s 89us/step - loss: 0.3080 - accuracy: 0.8558\n",
      "Epoch 68/100\n",
      "32561/32561 [==============================] - 3s 92us/step - loss: 0.3080 - accuracy: 0.8565\n",
      "Epoch 69/100\n",
      "32561/32561 [==============================] - 3s 89us/step - loss: 0.3080 - accuracy: 0.8561\n",
      "Epoch 70/100\n",
      "32561/32561 [==============================] - 3s 87us/step - loss: 0.3080 - accuracy: 0.8561\n",
      "Epoch 71/100\n",
      "32561/32561 [==============================] - 3s 88us/step - loss: 0.3079 - accuracy: 0.8568\n",
      "Epoch 72/100\n",
      "32561/32561 [==============================] - 3s 89us/step - loss: 0.3079 - accuracy: 0.8568\n",
      "Epoch 73/100\n",
      "32561/32561 [==============================] - 3s 90us/step - loss: 0.3078 - accuracy: 0.8562\n",
      "Epoch 74/100\n",
      "32561/32561 [==============================] - 4s 114us/step - loss: 0.3078 - accuracy: 0.8563\n",
      "Epoch 75/100\n",
      "32561/32561 [==============================] - 3s 86us/step - loss: 0.3077 - accuracy: 0.8569\n",
      "Epoch 76/100\n",
      "32561/32561 [==============================] - 3s 85us/step - loss: 0.3077 - accuracy: 0.8561\n",
      "Epoch 77/100\n",
      "32561/32561 [==============================] - 3s 87us/step - loss: 0.3077 - accuracy: 0.8567\n",
      "Epoch 78/100\n",
      "32561/32561 [==============================] - 3s 87us/step - loss: 0.3076 - accuracy: 0.8567\n",
      "Epoch 79/100\n",
      "32561/32561 [==============================] - 3s 93us/step - loss: 0.3075 - accuracy: 0.8558\n",
      "Epoch 80/100\n",
      "32561/32561 [==============================] - 3s 89us/step - loss: 0.3075 - accuracy: 0.8565\n",
      "Epoch 81/100\n",
      "32561/32561 [==============================] - 3s 90us/step - loss: 0.3074 - accuracy: 0.8572\n",
      "Epoch 82/100\n",
      "32561/32561 [==============================] - 3s 86us/step - loss: 0.3074 - accuracy: 0.8567\n",
      "Epoch 83/100\n",
      "32561/32561 [==============================] - 3s 87us/step - loss: 0.3073 - accuracy: 0.8567\n",
      "Epoch 84/100\n",
      "32561/32561 [==============================] - 3s 98us/step - loss: 0.3073 - accuracy: 0.8568\n",
      "Epoch 85/100\n",
      "32561/32561 [==============================] - 4s 112us/step - loss: 0.3072 - accuracy: 0.8568\n",
      "Epoch 86/100\n",
      "32561/32561 [==============================] - 3s 87us/step - loss: 0.3071 - accuracy: 0.8570\n",
      "Epoch 87/100\n",
      "32561/32561 [==============================] - 3s 89us/step - loss: 0.3072 - accuracy: 0.8568\n",
      "Epoch 88/100\n",
      "32561/32561 [==============================] - 3s 89us/step - loss: 0.3071 - accuracy: 0.8567\n",
      "Epoch 89/100\n",
      "32561/32561 [==============================] - 3s 89us/step - loss: 0.3071 - accuracy: 0.8572\n",
      "Epoch 90/100\n",
      "32561/32561 [==============================] - 3s 88us/step - loss: 0.3070 - accuracy: 0.8565\n",
      "Epoch 91/100\n",
      "32561/32561 [==============================] - 3s 90us/step - loss: 0.3069 - accuracy: 0.8569\n",
      "Epoch 92/100\n",
      "32561/32561 [==============================] - 3s 91us/step - loss: 0.3069 - accuracy: 0.8570\n",
      "Epoch 93/100\n",
      "32561/32561 [==============================] - 3s 86us/step - loss: 0.3068 - accuracy: 0.8572\n",
      "Epoch 94/100\n",
      "32561/32561 [==============================] - 3s 88us/step - loss: 0.3068 - accuracy: 0.8568\n",
      "Epoch 95/100\n",
      "32561/32561 [==============================] - 4s 111us/step - loss: 0.3067 - accuracy: 0.8569\n",
      "Epoch 96/100\n",
      "32561/32561 [==============================] - 3s 87us/step - loss: 0.3066 - accuracy: 0.8572\n",
      "Epoch 97/100\n",
      "32561/32561 [==============================] - 3s 87us/step - loss: 0.3067 - accuracy: 0.8569\n",
      "Epoch 98/100\n",
      "32561/32561 [==============================] - 3s 89us/step - loss: 0.3066 - accuracy: 0.8572\n",
      "Epoch 99/100\n",
      "32561/32561 [==============================] - 3s 87us/step - loss: 0.3065 - accuracy: 0.8569\n",
      "Epoch 100/100\n",
      "32561/32561 [==============================] - 3s 87us/step - loss: 0.3065 - accuracy: 0.8568\n",
      "16281/16281 [==============================] - 0s 17us/step\n",
      "Accuracy: 85.62\n"
     ]
    }
   ],
   "source": [
    "# fit the keras model on the dataset\n",
    "model.fit(X_sc, Y, epochs=100, batch_size=10)\n",
    "# evaluate the keras model\n",
    "_, accuracy = model.evaluate(X_test_sc, y_val)\n",
    "print('Accuracy: %.2f' % (accuracy*100))"
   ]
  },
  {
   "cell_type": "code",
   "execution_count": null,
   "metadata": {},
   "outputs": [],
   "source": []
  }
 ],
 "metadata": {
  "kernelspec": {
   "display_name": "Python 3",
   "language": "python",
   "name": "python3"
  },
  "language_info": {
   "codemirror_mode": {
    "name": "ipython",
    "version": 3
   },
   "file_extension": ".py",
   "mimetype": "text/x-python",
   "name": "python",
   "nbconvert_exporter": "python",
   "pygments_lexer": "ipython3",
   "version": "3.7.7"
  },
  "toc": {
   "base_numbering": 1,
   "nav_menu": {},
   "number_sections": true,
   "sideBar": true,
   "skip_h1_title": false,
   "title_cell": "Table of Contents",
   "title_sidebar": "Contents",
   "toc_cell": false,
   "toc_position": {
    "height": "calc(100% - 180px)",
    "left": "10px",
    "top": "150px",
    "width": "440px"
   },
   "toc_section_display": true,
   "toc_window_display": false
  },
  "varInspector": {
   "cols": {
    "lenName": 16,
    "lenType": 16,
    "lenVar": 40
   },
   "kernels_config": {
    "python": {
     "delete_cmd_postfix": "",
     "delete_cmd_prefix": "del ",
     "library": "var_list.py",
     "varRefreshCmd": "print(var_dic_list())"
    },
    "r": {
     "delete_cmd_postfix": ") ",
     "delete_cmd_prefix": "rm(",
     "library": "var_list.r",
     "varRefreshCmd": "cat(var_dic_list()) "
    }
   },
   "types_to_exclude": [
    "module",
    "function",
    "builtin_function_or_method",
    "instance",
    "_Feature"
   ],
   "window_display": false
  }
 },
 "nbformat": 4,
 "nbformat_minor": 4
}
